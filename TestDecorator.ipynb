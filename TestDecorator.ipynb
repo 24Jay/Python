{
 "cells": [
  {
   "cell_type": "markdown",
   "metadata": {},
   "source": [
    "### 函数的装饰器"
   ]
  },
  {
   "cell_type": "code",
   "execution_count": 25,
   "metadata": {},
   "outputs": [
    {
     "name": "stdout",
     "output_type": "stream",
     "text": [
      "in function tsfunc : func=foo\n",
      "[Wed Sep 20 14:58:18 2017] :---> foo()\n",
      "in function tsfunc : func=goo\n",
      "[Wed Sep 20 14:58:20 2017] :---> goo()\n"
     ]
    }
   ],
   "source": [
    "from time import ctime,sleep\n",
    "def tsfunc(func):\n",
    "    def wrapperFunc():\n",
    "        print(\"[%s] :---> %s()\"%(ctime(),func.__name__))\n",
    "        return func()\n",
    "    print(\"in function tsfunc : func=\"+func.__name__)\n",
    "    return wrapperFunc\n",
    "\n",
    "@tsfunc\n",
    "def foo():\n",
    "    pass\n",
    "\n",
    "def goo():\n",
    "    pass\n",
    "\n",
    "foo()\n",
    "sleep(2)\n",
    "#装饰器的效果其实就如同下面的函数\n",
    "tsfunc(goo)()"
   ]
  },
  {
   "cell_type": "markdown",
   "metadata": {},
   "source": [
    "### 默认参数和可变长参数"
   ]
  },
  {
   "cell_type": "code",
   "execution_count": 26,
   "metadata": {
    "collapsed": true
   },
   "outputs": [],
   "source": [
    "def foo(a,arg=\"Wordl\",*rest):\n",
    "    print(\"arg1 = \"+a)\n",
    "    print(\"arg2 = \"+arg)\n",
    "    for ag in rest:\n",
    "        print(\"another arg = \"+ag)"
   ]
  },
  {
   "cell_type": "code",
   "execution_count": 44,
   "metadata": {},
   "outputs": [
    {
     "name": "stdout",
     "output_type": "stream",
     "text": [
      "arg1 = Hello\n",
      "arg2 = Wordl\n",
      "arg1 = Hello\n",
      "arg2 = CHina\n",
      "arg1 = cool\n",
      "arg2 = down\n",
      "arg1 = Hello\n",
      "arg2 = CC\n",
      "another arg = 1\n",
      "another arg = 2\n",
      "another arg = 3\n",
      "arg1 = hi\n",
      "arg2 = go\n"
     ]
    }
   ],
   "source": [
    "foo(\"Hello\")\n",
    "foo(\"Hello\",\"CHina\")\n",
    "foo(\"cool\",arg=\"down\")\n",
    "foo(\"Hello\",\"CC\",\"1\",\"2\",\"3\")\n",
    "foo(\"hi\",arg=\"go\")"
   ]
  },
  {
   "cell_type": "markdown",
   "metadata": {},
   "source": [
    "### 关键字变量参数: dict"
   ]
  },
  {
   "cell_type": "code",
   "execution_count": 56,
   "metadata": {
    "collapsed": true
   },
   "outputs": [],
   "source": [
    "def goo(arg1,arg2=\"default_2\",*tups,**dicts):\n",
    "    print(\"formal arg = \"+arg1)\n",
    "    print(\"formal arg = \"+arg2)\n",
    "    for var in tups:\n",
    "        print(\"a tuple arg = \"+str(var))\n",
    "    for ar in dicts.keys():\n",
    "        print(\"a dict arg: %s = %s\"%(str(ar),str(dicts[ar])))"
   ]
  },
  {
   "cell_type": "code",
   "execution_count": 57,
   "metadata": {},
   "outputs": [
    {
     "name": "stdout",
     "output_type": "stream",
     "text": [
      "formal arg = 1\n",
      "formal arg = default_2\n"
     ]
    }
   ],
   "source": [
    "goo(\"1\")"
   ]
  },
  {
   "cell_type": "code",
   "execution_count": 58,
   "metadata": {},
   "outputs": [
    {
     "name": "stdout",
     "output_type": "stream",
     "text": [
      "formal arg = 1\n",
      "formal arg = 2\n"
     ]
    }
   ],
   "source": [
    "goo(\"1\",\"2\")"
   ]
  },
  {
   "cell_type": "code",
   "execution_count": 60,
   "metadata": {},
   "outputs": [
    {
     "name": "stdout",
     "output_type": "stream",
     "text": [
      "formal arg = 22\n",
      "formal arg = 1\n",
      "a dict arg: e = 34\n",
      "a dict arg: d = 123\n",
      "a dict arg: c = 12\n"
     ]
    }
   ],
   "source": [
    "goo(\"22\",arg2=\"1\",c=12,d=123,e=34)"
   ]
  },
  {
   "cell_type": "code",
   "execution_count": 63,
   "metadata": {},
   "outputs": [
    {
     "name": "stdout",
     "output_type": "stream",
     "text": [
      "formal arg = 22\n",
      "formal arg = 1\n",
      "a tuple arg = tup1\n",
      "a dict arg: e = 34\n",
      "a dict arg: d = 123\n",
      "a dict arg: c = 12\n"
     ]
    }
   ],
   "source": [
    "goo(\"22\",\"1\",\"tup1\",c=12,d=123,e=34)"
   ]
  },
  {
   "cell_type": "code",
   "execution_count": 64,
   "metadata": {},
   "outputs": [
    {
     "name": "stdout",
     "output_type": "stream",
     "text": [
      "formal arg = 22\n",
      "formal arg = 1\n",
      "a tuple arg = tup1\n",
      "a tuple arg = tup2\n",
      "a dict arg: e = 34\n",
      "a dict arg: d = 123\n",
      "a dict arg: c = 12\n"
     ]
    }
   ],
   "source": [
    "goo(\"22\",\"1\",\"tup1\",\"tup2\",c=12,d=123,e=34)"
   ]
  },
  {
   "cell_type": "code",
   "execution_count": 65,
   "metadata": {},
   "outputs": [
    {
     "name": "stdout",
     "output_type": "stream",
     "text": [
      "formal arg = 22\n",
      "formal arg = 1\n",
      "a tuple arg = tup1\n",
      "a tuple arg = tp2\n",
      "a dict arg: c = 12\n",
      "a dict arg: d = 123\n",
      "a dict arg: e = 34\n"
     ]
    }
   ],
   "source": [
    "goo(\"22\",\"1\",*(\"tup1\",\"tp2\"),**{\"c\":12,\"d\":123,\"e\":34})"
   ]
  },
  {
   "cell_type": "code",
   "execution_count": 66,
   "metadata": {},
   "outputs": [
    {
     "name": "stdout",
     "output_type": "stream",
     "text": [
      "formal arg = 22\n",
      "formal arg = 1\n",
      "a tuple arg = 4\n",
      "a tuple arg = 5\n",
      "a tuple arg = tup1\n",
      "a tuple arg = tp2\n",
      "a dict arg: c = 12\n",
      "a dict arg: d = 123\n",
      "a dict arg: e = 34\n"
     ]
    }
   ],
   "source": [
    "goo(\"22\",\"1\",4,5,*(\"tup1\",\"tp2\"),**{\"c\":12,\"d\":123,\"e\":34})"
   ]
  },
  {
   "cell_type": "code",
   "execution_count": 72,
   "metadata": {},
   "outputs": [
    {
     "name": "stdout",
     "output_type": "stream",
     "text": [
      "formal arg = 22\n",
      "formal arg = 1\n",
      "a tuple arg = 4\n",
      "a tuple arg = 5\n",
      "a tuple arg = tup1\n",
      "a tuple arg = tp2\n",
      "a dict arg: b = 2\n",
      "a dict arg: a = 1\n",
      "a dict arg: d = 123\n",
      "a dict arg: c = 12\n",
      "a dict arg: e = 34\n"
     ]
    }
   ],
   "source": [
    "goo(\"22\",\"1\",4,5,*(\"tup1\",\"tp2\"),a=1,b=2,**{\"c\":12,\"d\":123,\"e\":34})"
   ]
  },
  {
   "cell_type": "code",
   "execution_count": null,
   "metadata": {
    "collapsed": true
   },
   "outputs": [],
   "source": []
  },
  {
   "cell_type": "markdown",
   "metadata": {},
   "source": [
    "## 函数式编程"
   ]
  },
  {
   "cell_type": "markdown",
   "metadata": {},
   "source": [
    "### 匿名函数和lambda: python允许使用lambda关键字创造匿名函数"
   ]
  },
  {
   "cell_type": "markdown",
   "metadata": {},
   "source": [
    "```lambda [arg1,arg2...]: expression```"
   ]
  },
  {
   "cell_type": "code",
   "execution_count": 74,
   "metadata": {},
   "outputs": [
    {
     "data": {
      "text/plain": [
       "<function __main__.<lambda>>"
      ]
     },
     "execution_count": 74,
     "metadata": {},
     "output_type": "execute_result"
    }
   ],
   "source": [
    "lambda : True"
   ]
  },
  {
   "cell_type": "code",
   "execution_count": 75,
   "metadata": {
    "collapsed": true
   },
   "outputs": [],
   "source": [
    "tr = lambda : True"
   ]
  },
  {
   "cell_type": "code",
   "execution_count": 76,
   "metadata": {},
   "outputs": [
    {
     "data": {
      "text/plain": [
       "True"
      ]
     },
     "execution_count": 76,
     "metadata": {},
     "output_type": "execute_result"
    }
   ],
   "source": [
    "tr()"
   ]
  },
  {
   "cell_type": "code",
   "execution_count": 80,
   "metadata": {
    "collapsed": true
   },
   "outputs": [],
   "source": [
    "add = lambda x,y=1: x+y"
   ]
  },
  {
   "cell_type": "code",
   "execution_count": 82,
   "metadata": {},
   "outputs": [
    {
     "data": {
      "text/plain": [
       "2"
      ]
     },
     "execution_count": 82,
     "metadata": {},
     "output_type": "execute_result"
    }
   ],
   "source": [
    "add(1)"
   ]
  },
  {
   "cell_type": "code",
   "execution_count": 84,
   "metadata": {},
   "outputs": [
    {
     "data": {
      "text/plain": [
       "5"
      ]
     },
     "execution_count": 84,
     "metadata": {},
     "output_type": "execute_result"
    }
   ],
   "source": [
    "add(1,4)"
   ]
  },
  {
   "cell_type": "code",
   "execution_count": 85,
   "metadata": {
    "collapsed": true
   },
   "outputs": [],
   "source": [
    "ret = lambda *x : x"
   ]
  },
  {
   "cell_type": "code",
   "execution_count": 86,
   "metadata": {},
   "outputs": [
    {
     "data": {
      "text/plain": [
       "(1, 2, 3, 4)"
      ]
     },
     "execution_count": 86,
     "metadata": {},
     "output_type": "execute_result"
    }
   ],
   "source": [
    "ret(1,2,3,4)"
   ]
  },
  {
   "cell_type": "code",
   "execution_count": 87,
   "metadata": {},
   "outputs": [
    {
     "data": {
      "text/plain": [
       "(3,)"
      ]
     },
     "execution_count": 87,
     "metadata": {},
     "output_type": "execute_result"
    }
   ],
   "source": [
    "ret(3)"
   ]
  },
  {
   "cell_type": "code",
   "execution_count": 88,
   "metadata": {},
   "outputs": [
    {
     "data": {
      "text/plain": [
       "()"
      ]
     },
     "execution_count": 88,
     "metadata": {},
     "output_type": "execute_result"
    }
   ],
   "source": [
    "ret()"
   ]
  },
  {
   "cell_type": "markdown",
   "metadata": {},
   "source": [
    "### 内建函数: filter(), map(), reduce()"
   ]
  },
  {
   "cell_type": "code",
   "execution_count": 120,
   "metadata": {
    "collapsed": true
   },
   "outputs": [],
   "source": [
    "# odd = lambda n: n%2"
   ]
  },
  {
   "cell_type": "code",
   "execution_count": 121,
   "metadata": {
    "collapsed": true
   },
   "outputs": [],
   "source": [
    "def odd(n):\n",
    "    return n%2"
   ]
  },
  {
   "cell_type": "code",
   "execution_count": 131,
   "metadata": {},
   "outputs": [
    {
     "data": {
      "text/plain": [
       "[3, 5, 6, 8, 89]"
      ]
     },
     "execution_count": 131,
     "metadata": {},
     "output_type": "execute_result"
    }
   ],
   "source": [
    "nums = [3,5,6,8,89]\n",
    "nums"
   ]
  },
  {
   "cell_type": "code",
   "execution_count": 147,
   "metadata": {},
   "outputs": [
    {
     "name": "stdout",
     "output_type": "stream",
     "text": [
      "3\n",
      "5\n",
      "7\n",
      "9\n"
     ]
    }
   ],
   "source": [
    "# filter返回为True的\n",
    "for i in filter (odd, [2,3,5,6,7,9,10]):\n",
    "    print(i)"
   ]
  },
  {
   "cell_type": "code",
   "execution_count": null,
   "metadata": {
    "collapsed": true
   },
   "outputs": [],
   "source": []
  },
  {
   "cell_type": "markdown",
   "metadata": {},
   "source": [
    "### map()"
   ]
  },
  {
   "cell_type": "code",
   "execution_count": 153,
   "metadata": {},
   "outputs": [
    {
     "name": "stdout",
     "output_type": "stream",
     "text": [
      "1\n",
      "4\n",
      "9\n",
      "16\n",
      "25\n",
      "36\n",
      "49\n"
     ]
    }
   ],
   "source": [
    "a = map(lambda x:x**2, [1,2,3,4,5,6,7])\n",
    "for i in a:\n",
    "    print(i)"
   ]
  },
  {
   "cell_type": "code",
   "execution_count": 154,
   "metadata": {},
   "outputs": [
    {
     "name": "stdout",
     "output_type": "stream",
     "text": [
      "(3, -1)\n",
      "(7, -1)\n",
      "(11, -1)\n"
     ]
    }
   ],
   "source": [
    "b = map(lambda x,y:(x+y,x-y),[1,3,5],[2,4,6])\n",
    "for i in b:\n",
    "    print(i)"
   ]
  },
  {
   "cell_type": "markdown",
   "metadata": {},
   "source": [
    "### reduce()"
   ]
  },
  {
   "cell_type": "code",
   "execution_count": 158,
   "metadata": {
    "collapsed": true
   },
   "outputs": [],
   "source": [
    "# reduce((lambda x,y:x+y),range(5))"
   ]
  },
  {
   "cell_type": "markdown",
   "metadata": {},
   "source": [
    "## partial function application :　函数模板"
   ]
  },
  {
   "cell_type": "code",
   "execution_count": 162,
   "metadata": {
    "collapsed": true
   },
   "outputs": [],
   "source": [
    "def add(x,y):\n",
    "    return x-y"
   ]
  },
  {
   "cell_type": "code",
   "execution_count": 165,
   "metadata": {},
   "outputs": [
    {
     "data": {
      "text/plain": [
       "-1"
      ]
     },
     "execution_count": 165,
     "metadata": {},
     "output_type": "execute_result"
    }
   ],
   "source": [
    "from functools import partial\n",
    "add1=partial(add,1)\n",
    "add1(2)"
   ]
  },
  {
   "cell_type": "code",
   "execution_count": 167,
   "metadata": {},
   "outputs": [
    {
     "data": {
      "text/plain": [
       "1"
      ]
     },
     "execution_count": 167,
     "metadata": {},
     "output_type": "execute_result"
    }
   ],
   "source": [
    "add2=partial(add,y=1)\n",
    "add2(2)"
   ]
  },
  {
   "cell_type": "markdown",
   "metadata": {},
   "source": [
    "## 变量作用域"
   ]
  },
  {
   "cell_type": "code",
   "execution_count": 174,
   "metadata": {},
   "outputs": [
    {
     "name": "stdout",
     "output_type": "stream",
     "text": [
      "In __main__, bar=1\n",
      "In function foo, bar=200\n",
      "After foo(), in __main__, bar=1\n"
     ]
    }
   ],
   "source": [
    "bar = 1\n",
    "def foo():\n",
    "    bar = 200\n",
    "    print(\"In function foo, bar=%d\"%bar)\n",
    "\n",
    "# \n",
    "print(\"In __main__, bar=%d\"%bar)\n",
    "foo()\n",
    "print(\"After foo(), in __main__, bar=%d\"%bar)"
   ]
  },
  {
   "cell_type": "code",
   "execution_count": 175,
   "metadata": {},
   "outputs": [
    {
     "name": "stdout",
     "output_type": "stream",
     "text": [
      "In __main__, bar=1\n",
      "In function foo, bar=200\n",
      "After foo(), in __main__, bar=200\n"
     ]
    }
   ],
   "source": [
    "bar = 1\n",
    "def foo():\n",
    "    global bar \n",
    "    bar = 200\n",
    "    print(\"In function foo, bar=%d\"%bar)\n",
    "\n",
    "# \n",
    "print(\"In __main__, bar=%d\"%bar)\n",
    "foo()\n",
    "print(\"After foo(), in __main__, bar=%d\"%bar)"
   ]
  },
  {
   "cell_type": "markdown",
   "metadata": {},
   "source": [
    "## closure闭包"
   ]
  },
  {
   "cell_type": "code",
   "execution_count": 182,
   "metadata": {},
   "outputs": [
    {
     "name": "stdout",
     "output_type": "stream",
     "text": [
      "<function foo.<locals>.goo at 0x7fb43c04dd90>\n",
      "2\n",
      "3\n",
      "4\n",
      "5\n"
     ]
    }
   ],
   "source": [
    "def foo(start=0):\n",
    "    count = [start]\n",
    "    def goo():\n",
    "        count[0]+=1\n",
    "        return count[0]\n",
    "    return goo\n",
    "\n",
    "c = foo(1)\n",
    "print(c)\n",
    "print(c())\n",
    "print(c())\n",
    "print(c())\n",
    "print(c())"
   ]
  },
  {
   "cell_type": "markdown",
   "metadata": {},
   "source": [
    "## lambda表达式及其作用域"
   ]
  },
  {
   "cell_type": "code",
   "execution_count": 185,
   "metadata": {},
   "outputs": [
    {
     "name": "stdout",
     "output_type": "stream",
     "text": [
      "15\n",
      "18\n"
     ]
    }
   ],
   "source": [
    "x = 10\n",
    "def foo():\n",
    "    y = 5\n",
    "    bar = lambda :x+y\n",
    "    print(bar())\n",
    "    y=8\n",
    "    print(bar())\n",
    "\n",
    "foo()"
   ]
  },
  {
   "cell_type": "code",
   "execution_count": 186,
   "metadata": {},
   "outputs": [
    {
     "name": "stdout",
     "output_type": "stream",
     "text": [
      "15\n",
      "15\n"
     ]
    }
   ],
   "source": [
    "x = 10\n",
    "def foo():\n",
    "    y = 5\n",
    "    bar = lambda y=y:x+y\n",
    "    print(bar())\n",
    "    y=8\n",
    "    print(bar())\n",
    "\n",
    "foo()"
   ]
  },
  {
   "cell_type": "code",
   "execution_count": 187,
   "metadata": {},
   "outputs": [
    {
     "name": "stdout",
     "output_type": "stream",
     "text": [
      "15\n",
      "18\n"
     ]
    }
   ],
   "source": [
    "x = 10\n",
    "def foo():\n",
    "    y = 5\n",
    "    bar = lambda z:x+z\n",
    "    print(bar(y))\n",
    "    y=8\n",
    "    print(bar(y))\n",
    "\n",
    "foo()"
   ]
  },
  {
   "cell_type": "markdown",
   "metadata": {
    "collapsed": true
   },
   "source": [
    "## 列表解析   :    [expression for iter_var in iterable]"
   ]
  },
  {
   "cell_type": "code",
   "execution_count": 193,
   "metadata": {},
   "outputs": [
    {
     "name": "stdout",
     "output_type": "stream",
     "text": [
      "0\t1\t4\t9\t16\t"
     ]
    }
   ],
   "source": [
    "a = map(lambda x:x**2, range(5))\n",
    "for i in a:\n",
    "    print(\"%d\"%i,end=\"\\t\")"
   ]
  },
  {
   "cell_type": "code",
   "execution_count": 189,
   "metadata": {},
   "outputs": [
    {
     "data": {
      "text/plain": [
       "[0, 1, 4, 9, 16]"
      ]
     },
     "execution_count": 189,
     "metadata": {},
     "output_type": "execute_result"
    }
   ],
   "source": [
    "[x**2 for x in range(5)]"
   ]
  },
  {
   "cell_type": "markdown",
   "metadata": {},
   "source": [
    "### (expression for iter_var in iterable if cond_expression)"
   ]
  },
  {
   "cell_type": "code",
   "execution_count": 194,
   "metadata": {},
   "outputs": [
    {
     "data": {
      "text/plain": [
       "[11, 23, 5, 17]"
      ]
     },
     "execution_count": 194,
     "metadata": {},
     "output_type": "execute_result"
    }
   ],
   "source": [
    "[x for x in [11,2,23,22,8,10,5,17] if x%2]"
   ]
  },
  {
   "cell_type": "code",
   "execution_count": 216,
   "metadata": {},
   "outputs": [
    {
     "data": {
      "text/plain": [
       "['a', 'b', 'c', 'd', 'e', 'f', 'g']"
      ]
     },
     "execution_count": 216,
     "metadata": {},
     "output_type": "execute_result"
    }
   ],
   "source": [
    "['abcdefg'[i] for i in range(7)]"
   ]
  },
  {
   "cell_type": "markdown",
   "metadata": {},
   "source": [
    "## 生成器表达式 : (expression for iter_var in iterable if cond_expression)"
   ]
  },
  {
   "cell_type": "markdown",
   "metadata": {},
   "source": [
    "*生成器表达式是列表解析的一个扩展*"
   ]
  },
  {
   "cell_type": "markdown",
   "metadata": {},
   "source": [
    "- 列表解析的一个不足就是必须生成所有数据，用以创建整个列表。这可能对有大量数据的iterator有负面效应"
   ]
  },
  {
   "cell_type": "markdown",
   "metadata": {},
   "source": [
    "- 生成器表达式与列表解析的语法几乎一样，不过它不返回列表，而是返回一个生成器，它在内存上更有效率"
   ]
  },
  {
   "cell_type": "code",
   "execution_count": 199,
   "metadata": {},
   "outputs": [
    {
     "data": {
      "text/plain": [
       "17"
      ]
     },
     "execution_count": 199,
     "metadata": {},
     "output_type": "execute_result"
    }
   ],
   "source": [
    "longest = max(len(x.strip()) for x in open('his.csv'))\n",
    "longest"
   ]
  },
  {
   "cell_type": "code",
   "execution_count": 200,
   "metadata": {},
   "outputs": [
    {
     "data": {
      "text/plain": [
       "17"
      ]
     },
     "execution_count": 200,
     "metadata": {},
     "output_type": "execute_result"
    }
   ],
   "source": [
    "l = max([len(x.strip()) for x in open(\"his.csv\")])\n",
    "l"
   ]
  },
  {
   "cell_type": "code",
   "execution_count": 215,
   "metadata": {},
   "outputs": [
    {
     "data": {
      "text/plain": [
       "83"
      ]
     },
     "execution_count": 215,
     "metadata": {},
     "output_type": "execute_result"
    }
   ],
   "source": [
    "longest = max((len(x.strip()) for x in open('TestDecorator.ipynb')))\n",
    "\n",
    "longest"
   ]
  },
  {
   "cell_type": "code",
   "execution_count": 202,
   "metadata": {},
   "outputs": [
    {
     "data": {
      "text/plain": [
       "83"
      ]
     },
     "execution_count": 202,
     "metadata": {},
     "output_type": "execute_result"
    }
   ],
   "source": [
    "l = max([len(x.strip()) for x in open(\"TestDecorator.ipynb\")])\n",
    "l"
   ]
  }
 ],
 "metadata": {
  "kernelspec": {
   "display_name": "Python 3",
   "language": "python",
   "name": "python3"
  },
  "language_info": {
   "codemirror_mode": {
    "name": "ipython",
    "version": 3
   },
   "file_extension": ".py",
   "mimetype": "text/x-python",
   "name": "python",
   "nbconvert_exporter": "python",
   "pygments_lexer": "ipython3",
   "version": "3.5.2"
  }
 },
 "nbformat": 4,
 "nbformat_minor": 2
}
