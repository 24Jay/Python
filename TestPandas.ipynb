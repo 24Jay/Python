{
 "cells": [
  {
   "cell_type": "markdown",
   "metadata": {},
   "source": [
    "# ６. pandas入门"
   ]
  },
  {
   "cell_type": "code",
   "execution_count": 3,
   "metadata": {
    "collapsed": true
   },
   "outputs": [],
   "source": [
    "import pandas as pd\n",
    "from pandas import Series, DataFrame\n",
    "import numpy as np"
   ]
  },
  {
   "cell_type": "code",
   "execution_count": 14,
   "metadata": {},
   "outputs": [
    {
     "name": "stdout",
     "output_type": "stream",
     "text": [
      "<class 'pandas.core.series.Series'>\n",
      "\n",
      "    One-dimensional ndarray with axis labels (including time series).\n",
      "\n",
      "    Labels need not be unique but must be a hashable type. The object\n",
      "    supports both integer- and label-based indexing and provides a host of\n",
      "    methods for performing operations involving the index. Statistical\n",
      "    methods from ndarray have been overridden to automatically exclude\n",
      "    missing data (currently represented as NaN).\n",
      "\n",
      "    Operations between Series (+, -, /, *, **) align values based on their\n",
      "    associated index values-- they need not be the same length. The result\n",
      "    index will be the sorted union of the two indexes.\n",
      "\n",
      "    Parameters\n",
      "    ----------\n",
      "    data : array-like, dict, or scalar value\n",
      "        Contains data stored in Series\n",
      "    index : array-like or Index (1d)\n",
      "        Values must be hashable and have the same length as `data`.\n",
      "        Non-unique index values are allowed. Will default to\n",
      "        RangeIndex(len(data)) if not provided. If both a dict and index\n",
      "        sequence are used, the index will override the keys found in the\n",
      "        dict.\n",
      "    dtype : numpy.dtype or None\n",
      "        If None, dtype will be inferred\n",
      "    copy : boolean, default False\n",
      "        Copy input data\n",
      "    \n",
      "(<class 'pandas.core.base.IndexOpsMixin'>, <class 'pandas.core.strings.StringAccessorMixin'>, <class 'pandas.core.generic.NDFrame'>)\n",
      "Series\n",
      "pandas.core.frame\n",
      "{'map': <function Series.map at 0x7ff825f2f488>, '_set_labels': <function Series._set_labels at 0x7ff825f2c9d8>, '__itruediv__': <function add_special_arithmetic_methods.<locals>._wrap_inplace_method.<locals>.f at 0x7ff825835d90>, '__add__': <function _arith_method_SERIES.<locals>.wrapper at 0x7ff82582c2f0>, 'append': <function Series.append at 0x7ff825f2db70>, '__ne__': <function _comp_method_SERIES.<locals>.wrapper at 0x7ff825836d90>, '__xor__': <function _bool_method_SERIES.<locals>.wrapper at 0x7ff825835598>, 'mul': <function _flex_method_SERIES.<locals>.flex_wrapper at 0x7ff825834598>, '__float__': <function _coerce_method.<locals>.wrapper at 0x7ff825f2c1e0>, '__module__': 'pandas.core.series', '_AXIS_ALIASES': {'rows': 0}, 'subtract': <function _flex_method_SERIES.<locals>.flex_wrapper at 0x7ff825834510>, '_set_with': <function Series._set_with at 0x7ff825f2c950>, 'radd': <function _flex_method_SERIES.<locals>.flex_wrapper at 0x7ff825834488>, '_gotitem': <function Series._gotitem at 0x7ff825f2f510>, 'median': <function Series.median at 0x7ff825f33048>, 'ne': <function _flex_method_SERIES.<locals>.flex_wrapper at 0x7ff825834ea0>, 'idxmax': <function Series.idxmax at 0x7ff825f2d730>, '__len__': <function Series.__len__ at 0x7ff825f2ac80>, '_get_values': <function Series._get_values at 0x7ff825f2c7b8>, 'ge': <function _flex_method_SERIES.<locals>.flex_wrapper at 0x7ff82582c158>, 'cumprod': <function Series.cumprod at 0x7ff825f31b70>, 'diff': <function Series.diff at 0x7ff825f2d9d8>, '_AXIS_NUMBERS': {'index': 0}, '_AXIS_NAMES': {0: 'index'}, '__iter__': <function Series.__iter__ at 0x7ff825f2cf28>, '__isub__': <function add_special_arithmetic_methods.<locals>._wrap_inplace_method.<locals>.f at 0x7ff825835c80>, 'to_dict': <function Series.to_dict at 0x7ff825f2d1e0>, 'dt': <pandas.core.base.AccessorProperty object at 0x7ff825f2e438>, 'ravel': <function Series.ravel at 0x7ff825f2aa60>, '__array__': <function Series.__array__ at 0x7ff825f2ad90>, 'rtruediv': <function _flex_method_SERIES.<locals>.flex_wrapper at 0x7ff825834a60>, '__div__': <function _arith_method_SERIES.<locals>.wrapper at 0x7ff82582c9d8>, '__init__': <function Series.__init__ at 0x7ff825f26268>, '_update_inplace': <function Series._update_inplace at 0x7ff825f2a488>, '_info_axis_name': 'index', '__mul__': <function _arith_method_SERIES.<locals>.wrapper at 0x7ff82582c840>, '_reduce': <function Series._reduce at 0x7ff825f2f6a8>, '_reindex_indexer': <function Series._reindex_indexer at 0x7ff825f2f730>, 'reindex': <function Series.reindex at 0x7ff825f2f950>, 'sort_index': <function Series.sort_index at 0x7ff825f2f048>, 'ftypes': <property object at 0x7ff825f23f48>, 'combine_first': <function Series.combine_first at 0x7ff825f2de18>, 'div': <function _flex_method_SERIES.<locals>.flex_wrapper at 0x7ff825834620>, '__gt__': <function _comp_method_SERIES.<locals>.wrapper at 0x7ff825835048>, 'mod': <function _flex_method_SERIES.<locals>.flex_wrapper at 0x7ff825834730>, '__setitem__': <function Series.__setitem__ at 0x7ff825f2c840>, 'product': <function Series.prod at 0x7ff825f31f28>, 'unstack': <function Series.unstack at 0x7ff825f2f400>, '_metadata': ['name'], '_slice': <function Series._slice at 0x7ff825f2c598>, 'iteritems': <function Series.iteritems at 0x7ff825f2d048>, 'swaplevel': <function Series.swaplevel at 0x7ff825f2f2f0>, '__ge__': <function _comp_method_SERIES.<locals>.wrapper at 0x7ff825835268>, '__divmod__': <function _arith_method_SERIES.<locals>.wrapper at 0x7ff825835bf8>, 'kurtosis': <function Series.kurt at 0x7ff825f31ea0>, 'dtypes': <property object at 0x7ff825f23ea8>, '__unicode__': <function Series.__unicode__ at 0x7ff825f2ce18>, 'reshape': <function Series.reshape at 0x7ff825f2cae8>, 'transform': <function NDFrame._add_series_or_dataframe_operations.<locals>.transform at 0x7ff825f59510>, '_stat_axis_name': 'index', 'rename': <function Series.rename at 0x7ff825f2f8c8>, '_set_with_engine': <function Series._set_with_engine at 0x7ff825f2c8c8>, 'name': <property object at 0x7ff825f23e58>, 'le': <function _flex_method_SERIES.<locals>.flex_wrapper at 0x7ff82582c0d0>, 'rpow': <function _flex_method_SERIES.<locals>.flex_wrapper at 0x7ff825834c80>, '_AXIS_ORDERS': ['index'], '_constructor': <property object at 0x7ff825f947c8>, 'from_csv': <classmethod object at 0x7ff825f2e400>, '_AXIS_REVERSED': False, 'between': <function Series.between at 0x7ff825f2fd08>, 'count': <function Series.count at 0x7ff825f2d400>, '__truediv__': <function _arith_method_SERIES.<locals>.wrapper at 0x7ff82582c9d8>, '__array_wrap__': <function Series.__array_wrap__ at 0x7ff825f2ae18>, 'round': <function Series.round at 0x7ff825f2d7b8>, 'nlargest': <function Series.nlargest at 0x7ff825f2f158>, '_values': <property object at 0x7ff825f2b048>, '_dir_additions': <function Series._dir_additions at 0x7ff825f31510>, '__long__': <function _coerce_method.<locals>.wrapper at 0x7ff825f2c268>, 'view': <function Series.view at 0x7ff825f2ad08>, '_needs_reindex_multi': <function Series._needs_reindex_multi at 0x7ff825f2f7b8>, '_stat_axis_number': 0, 'add': <function _flex_method_SERIES.<locals>.flex_wrapper at 0x7ff825830730>, 'pow': <function _flex_method_SERIES.<locals>.flex_wrapper at 0x7ff8258347b8>, 'fillna': <function Series.fillna at 0x7ff825f2f9d8>, 'compress': <function Series.compress at 0x7ff825f2aae8>, '_index': None, 'sortlevel': <function Series.sortlevel at 0x7ff825f2f268>, 'values': <property object at 0x7ff825f23f98>, '_get_values_tuple': <function Series._get_values_tuple at 0x7ff825f2c730>, 'dtype': <property object at 0x7ff825f23e08>, 'argsort': <function Series.argsort at 0x7ff825f2f0d0>, '_info_axis_number': 0, 'aggregate': <function Series.aggregate at 0x7ff825f2f598>, 'ewm': <function NDFrame._add_series_or_dataframe_operations.<locals>.ewm at 0x7ff825f59488>, '_make_dt_accessor': <function Series._make_dt_accessor at 0x7ff825f31378>, 'kurt': <function Series.kurt at 0x7ff825f31ea0>, '_accessors': frozenset({'str', 'dt', 'cat'}), '_get_with': <function Series._get_with at 0x7ff825f2c6a8>, '__rpow__': <function _arith_method_SERIES.<locals>.wrapper at 0x7ff825836950>, 'rmod': <function _flex_method_SERIES.<locals>.flex_wrapper at 0x7ff825834d90>, 'align': <function Series.align at 0x7ff825f2f840>, 'truediv': <function _flex_method_SERIES.<locals>.flex_wrapper at 0x7ff825834620>, 'mean': <function Series.mean at 0x7ff825f31d90>, '__rtruediv__': <function _arith_method_SERIES.<locals>.wrapper at 0x7ff825836510>, '__rsub__': <function _arith_method_SERIES.<locals>.wrapper at 0x7ff8258362f0>, 'ptp': <function Series.ptp at 0x7ff825f33268>, '__eq__': <function _comp_method_SERIES.<locals>.wrapper at 0x7ff825836c80>, '_AXIS_LEN': 1, 'rolling': <function NDFrame._add_series_or_dataframe_operations.<locals>.rolling at 0x7ff825f332f0>, '__and__': <function _bool_method_SERIES.<locals>.wrapper at 0x7ff825835378>, 'reorder_levels': <function Series.reorder_levels at 0x7ff825f2f378>, '__rfloordiv__': <function _arith_method_SERIES.<locals>.wrapper at 0x7ff825836730>, '_set_subtyp': <function Series._set_subtyp at 0x7ff825f2a400>, 'combine': <function Series.combine at 0x7ff825f2dd90>, 'isin': <function Series.isin at 0x7ff825f2fc80>, 'mad': <function NDFrame._add_numeric_operations.<locals>.mad at 0x7ff825f31620>, 'hist': <function hist_series at 0x7ff825830488>, 'imag': <property object at 0x7ff825f2b188>, 'idxmin': <function Series.idxmin at 0x7ff825f2d6a8>, '_allow_index_ops': True, 'set_value': <function Series.set_value at 0x7ff825f2cd08>, '__le__': <function _comp_method_SERIES.<locals>.wrapper at 0x7ff825835158>, 'last_valid_index': <function Series.last_valid_index at 0x7ff825f311e0>, 'repeat': <function Series.repeat at 0x7ff825f2cbf8>, '_unpickle_series_compat': <function Series._unpickle_series_compat at 0x7ff825f2c378>, '__rmod__': <function _arith_method_SERIES.<locals>.wrapper at 0x7ff825836b70>, 'index': <pandas._libs.lib.AxisProperty object at 0x7ff82798a570>, 'sub': <function _flex_method_SERIES.<locals>.flex_wrapper at 0x7ff825834510>, 'from_array': <classmethod object at 0x7ff825f90cc0>, 'to_period': <function Series.to_period at 0x7ff825f312f0>, 'to_excel': <function Series.to_excel at 0x7ff825f2ff28>, 'cov': <function Series.cov at 0x7ff825f2d950>, 'var': <function Series.var at 0x7ff825f31730>, 'searchsorted': <function Series.searchsorted at 0x7ff825f2dc80>, 'all': <function Series.all at 0x7ff825f31598>, '__imul__': <function add_special_arithmetic_methods.<locals>._wrap_inplace_method.<locals>.f at 0x7ff825835d08>, 'gt': <function _flex_method_SERIES.<locals>.flex_wrapper at 0x7ff82582c048>, 'get_values': <function Series.get_values at 0x7ff825f2a950>, 'asobject': <property object at 0x7ff825f2b098>, 'nonzero': <function Series.nonzero at 0x7ff825f2ab70>, '__array_prepare__': <function Series.__array_prepare__ at 0x7ff825f2aea0>, 'divide': <function _flex_method_SERIES.<locals>.flex_wrapper at 0x7ff825834620>, 'quantile': <function Series.quantile at 0x7ff825f2d840>, '__ipow__': <function add_special_arithmetic_methods.<locals>._wrap_inplace_method.<locals>.f at 0x7ff825835e18>, 'axes': <property object at 0x7ff825f2b0e8>, 'mode': <function Series.mode at 0x7ff825f2d488>, 'rmul': <function _flex_method_SERIES.<locals>.flex_wrapper at 0x7ff825834840>, '__lt__': <function _comp_method_SERIES.<locals>.wrapper at 0x7ff825836ea0>, 'lt': <function _flex_method_SERIES.<locals>.flex_wrapper at 0x7ff825834f28>, 'cat': <pandas.core.base.AccessorProperty object at 0x7ff825f2eb70>, 'sem': <function Series.sem at 0x7ff825f316a8>, 'sum': <function Series.sum at 0x7ff825f31d08>, 'rsub': <function _flex_method_SERIES.<locals>.flex_wrapper at 0x7ff825834950>, 'unique': <function Series.unique at 0x7ff825f2d510>, '__or__': <function _bool_method_SERIES.<locals>.wrapper at 0x7ff825835488>, 'argmax': <function Series.idxmax at 0x7ff825f2d730>, 'to_string': <function Series.to_string at 0x7ff825f2cea0>, '_typ': 'series', 'skew': <function Series.skew at 0x7ff825f31e18>, '_set_name': <function Series._set_name at 0x7ff825f2d378>, 'dropna': <function Series.dropna at 0x7ff825f31048>, 'eq': <function _flex_method_SERIES.<locals>.flex_wrapper at 0x7ff825834e18>, 'get_value': <function Series.get_value at 0x7ff825f2cc80>, 'put': <function Series.put at 0x7ff825f2abf8>, '__int__': <function _coerce_method.<locals>.wrapper at 0x7ff825f2c2f0>, 'tolist': <function Series.tolist at 0x7ff825f2d158>, '_can_hold_na': <property object at 0x7ff825f23db8>, '__rand__': <function _bool_method_SERIES.<locals>.wrapper at 0x7ff825835730>, '__rmul__': <function _arith_method_SERIES.<locals>.wrapper at 0x7ff8258360d0>, 'keys': <function Series.keys at 0x7ff825f2d0d0>, '_set_values': <function Series._set_values at 0x7ff825f2ca60>, 'std': <function Series.std at 0x7ff825f317b8>, 'rdiv': <function _flex_method_SERIES.<locals>.flex_wrapper at 0x7ff825834a60>, 'prod': <function Series.prod at 0x7ff825f31f28>, 'shift': <function Series.shift at 0x7ff825f2fa60>, '_make_cat_accessor': <function Series._make_cat_accessor at 0x7ff825f31400>, '_AXIS_SLICEMAP': None, 'to_sparse': <function Series.to_sparse at 0x7ff825f2d2f0>, '_ixs': <function Series._ixs at 0x7ff825f2c488>, 'drop_duplicates': <function Series.drop_duplicates at 0x7ff825f2d598>, '__mod__': <function _arith_method_SERIES.<locals>.wrapper at 0x7ff82582cd08>, '_AXIS_IALIASES': {0: 'rows'}, '_binop': <function Series._binop at 0x7ff825f2dd08>, '__rxor__': <function _bool_method_SERIES.<locals>.wrapper at 0x7ff825835a60>, '__getitem__': <function Series.__getitem__ at 0x7ff825f2c620>, '__radd__': <function _arith_method_SERIES.<locals>.wrapper at 0x7ff82582c510>, 'expanding': <function NDFrame._add_series_or_dataframe_operations.<locals>.expanding at 0x7ff825f59400>, 'items': <function Series.iteritems at 0x7ff825f2d048>, 'ftype': <property object at 0x7ff825f23ef8>, '__rdiv__': <function _arith_method_SERIES.<locals>.wrapper at 0x7ff825836510>, 'min': <function Series.min at 0x7ff825f33158>, 'reset_index': <function Series.reset_index at 0x7ff825f2cd90>, '_agg_doc': \"\\nExamples\\n--------\\n\\n>>> s = Series(np.random.randn(10))\\n\\n>>> s.agg('min')\\n-1.3018049988556679\\n\\n>>> s.agg(['min', 'max'])\\nmin   -1.301805\\nmax    1.127688\\ndtype: float64\\n\\nSee also\\n--------\\npandas.Series.apply\\npandas.Series.transform\\n\\n\", 'sort_values': <function Series.sort_values at 0x7ff825f2df28>, '_is_mixed_type': <property object at 0x7ff825f2b1d8>, '__floordiv__': <function _arith_method_SERIES.<locals>.wrapper at 0x7ff82582cb70>, 'cummax': <function Series.cummax at 0x7ff825f31c80>, '__sub__': <function _arith_method_SERIES.<locals>.wrapper at 0x7ff82582c6a8>, '_set_axis': <function Series._set_axis at 0x7ff825f2a378>, '__pow__': <function _arith_method_SERIES.<locals>.wrapper at 0x7ff82582cea0>, 'nsmallest': <function Series.nsmallest at 0x7ff825f2f1e0>, 'rfloordiv': <function _flex_method_SERIES.<locals>.flex_wrapper at 0x7ff825834b70>, 'agg': <function Series.aggregate at 0x7ff825f2f598>, 'any': <function Series.any at 0x7ff825f87a60>, 'dot': <function Series.dot at 0x7ff825f2dae8>, 'reindex_axis': <function Series.reindex_axis at 0x7ff825f2fae8>, 'max': <function Series.max at 0x7ff825f330d0>, '_dir_deletions': <function Series._dir_deletions at 0x7ff825f31488>, 'take': <function Series.take at 0x7ff825f2fbf8>, 'corr': <function Series.corr at 0x7ff825f2d8c8>, 'multiply': <function _flex_method_SERIES.<locals>.flex_wrapper at 0x7ff825834598>, 'autocorr': <function Series.autocorr at 0x7ff825f2da60>, '_constructor_expanddim': <property object at 0x7ff825f23d68>, 'real': <property object at 0x7ff825f2b138>, 'to_csv': <function Series.to_csv at 0x7ff825f2fe18>, 'compound': <function NDFrame._add_numeric_operations.<locals>.compound at 0x7ff825f31840>, 'duplicated': <function Series.duplicated at 0x7ff825f2d620>, 'valid': <function Series.<lambda> at 0x7ff825f310d0>, '__iadd__': <function add_special_arithmetic_methods.<locals>._wrap_inplace_method.<locals>.f at 0x7ff825f597b8>, 'first_valid_index': <function Series.first_valid_index at 0x7ff825f31158>, 'apply': <function Series.apply at 0x7ff825f2f620>, 'to_frame': <function Series.to_frame at 0x7ff825f2d268>, 'cumsum': <function Series.cumsum at 0x7ff825f31a60>, '__doc__': '\\n    One-dimensional ndarray with axis labels (including time series).\\n\\n    Labels need not be unique but must be a hashable type. The object\\n    supports both integer- and label-based indexing and provides a host of\\n    methods for performing operations involving the index. Statistical\\n    methods from ndarray have been overridden to automatically exclude\\n    missing data (currently represented as NaN).\\n\\n    Operations between Series (+, -, /, *, **) align values based on their\\n    associated index values-- they need not be the same length. The result\\n    index will be the sorted union of the two indexes.\\n\\n    Parameters\\n    ----------\\n    data : array-like, dict, or scalar value\\n        Contains data stored in Series\\n    index : array-like or Index (1d)\\n        Values must be hashable and have the same length as `data`.\\n        Non-unique index values are allowed. Will default to\\n        RangeIndex(len(data)) if not provided. If both a dict and index\\n        sequence are used, the index will override the keys found in the\\n        dict.\\n    dtype : numpy.dtype or None\\n        If None, dtype will be inferred\\n    copy : boolean, default False\\n        Copy input data\\n    ', 'floordiv': <function _flex_method_SERIES.<locals>.flex_wrapper at 0x7ff8258346a8>, 'cummin': <function Series.cummin at 0x7ff825f31950>, 'to_timestamp': <function Series.to_timestamp at 0x7ff825f31268>, 'memory_usage': <function Series.memory_usage at 0x7ff825f2fb70>, 'update': <function Series.update at 0x7ff825f2dea0>, '__ror__': <function _bool_method_SERIES.<locals>.wrapper at 0x7ff8258358c8>, 'plot': <pandas.core.base.AccessorProperty object at 0x7ff825f2e550>, 'argmin': <function Series.idxmin at 0x7ff825f2d6a8>, '_ix': None}\n"
     ]
    }
   ],
   "source": [
    "print(Series().__class__)\n",
    "print(Series.__doc__)\n",
    "print(Series.__bases__)\n",
    "print(Series.__name__)\n",
    "print(DataFrame.__module__)\n",
    "print(Series.__dict__)"
   ]
  },
  {
   "cell_type": "code",
   "execution_count": 13,
   "metadata": {},
   "outputs": [
    {
     "data": {
      "text/plain": [
       "pandas.core.series.Series"
      ]
     },
     "execution_count": 13,
     "metadata": {},
     "output_type": "execute_result"
    }
   ],
   "source": [
    "type(Series())"
   ]
  },
  {
   "cell_type": "markdown",
   "metadata": {},
   "source": [
    "## 6.1 Series"
   ]
  },
  {
   "cell_type": "markdown",
   "metadata": {},
   "source": [
    "- ### list to Series"
   ]
  },
  {
   "cell_type": "code",
   "execution_count": 20,
   "metadata": {},
   "outputs": [
    {
     "data": {
      "text/plain": [
       "0    4\n",
       "1   -7\n",
       "2    8\n",
       "3    9\n",
       "dtype: int64"
      ]
     },
     "execution_count": 20,
     "metadata": {},
     "output_type": "execute_result"
    }
   ],
   "source": [
    "obj = pd.Series([4,-7,8,9])\n",
    "obj"
   ]
  },
  {
   "cell_type": "code",
   "execution_count": 21,
   "metadata": {},
   "outputs": [
    {
     "data": {
      "text/plain": [
       "array([ 4, -7,  8,  9])"
      ]
     },
     "execution_count": 21,
     "metadata": {},
     "output_type": "execute_result"
    }
   ],
   "source": [
    "obj.values"
   ]
  },
  {
   "cell_type": "code",
   "execution_count": 22,
   "metadata": {},
   "outputs": [
    {
     "data": {
      "text/plain": [
       "RangeIndex(start=0, stop=4, step=1)"
      ]
     },
     "execution_count": 22,
     "metadata": {},
     "output_type": "execute_result"
    }
   ],
   "source": [
    "obj.index"
   ]
  },
  {
   "cell_type": "code",
   "execution_count": 25,
   "metadata": {},
   "outputs": [
    {
     "data": {
      "text/plain": [
       "d     4\n",
       "a     5\n",
       "b     0\n",
       "fg   -4\n",
       "dtype: int64"
      ]
     },
     "execution_count": 25,
     "metadata": {},
     "output_type": "execute_result"
    }
   ],
   "source": [
    "obj2=Series([4,5,0,-4],index=['d','a','b','fg'])\n",
    "obj2"
   ]
  },
  {
   "cell_type": "code",
   "execution_count": 26,
   "metadata": {},
   "outputs": [
    {
     "data": {
      "text/plain": [
       "5"
      ]
     },
     "execution_count": 26,
     "metadata": {},
     "output_type": "execute_result"
    }
   ],
   "source": [
    "obj2['a']"
   ]
  },
  {
   "cell_type": "code",
   "execution_count": 27,
   "metadata": {},
   "outputs": [
    {
     "data": {
      "text/plain": [
       "d    4\n",
       "a    5\n",
       "dtype: int64"
      ]
     },
     "execution_count": 27,
     "metadata": {},
     "output_type": "execute_result"
    }
   ],
   "source": [
    "obj2[obj2>0]"
   ]
  },
  {
   "cell_type": "code",
   "execution_count": 29,
   "metadata": {},
   "outputs": [
    {
     "data": {
      "text/plain": [
       "True"
      ]
     },
     "execution_count": 29,
     "metadata": {},
     "output_type": "execute_result"
    }
   ],
   "source": [
    "'a' in obj2"
   ]
  },
  {
   "cell_type": "code",
   "execution_count": 30,
   "metadata": {},
   "outputs": [
    {
     "data": {
      "text/plain": [
       "False"
      ]
     },
     "execution_count": 30,
     "metadata": {},
     "output_type": "execute_result"
    }
   ],
   "source": [
    "'c' in obj2"
   ]
  },
  {
   "cell_type": "markdown",
   "metadata": {},
   "source": [
    "- ### dict to Series"
   ]
  },
  {
   "cell_type": "code",
   "execution_count": 32,
   "metadata": {},
   "outputs": [
    {
     "data": {
      "text/plain": [
       "Ohio      3500\n",
       "Oregon    1600\n",
       "Texas     7100\n",
       "Utah      5100\n",
       "dtype: int64"
      ]
     },
     "execution_count": 32,
     "metadata": {},
     "output_type": "execute_result"
    }
   ],
   "source": [
    "sd = {\"Ohio\":3500,\"Texas\":7100,\"Oregon\":1600,\"Utah\":5100}\n",
    "obj3=Series(sd)\n",
    "obj3"
   ]
  },
  {
   "cell_type": "code",
   "execution_count": 33,
   "metadata": {},
   "outputs": [
    {
     "data": {
      "text/plain": [
       "Ohio          3500.0\n",
       "New York         NaN\n",
       "California       NaN\n",
       "dtype: float64"
      ]
     },
     "execution_count": 33,
     "metadata": {},
     "output_type": "execute_result"
    }
   ],
   "source": [
    "states={\"California\",\"Ohio\",\"New York\"}\n",
    "obj4=Series(sd,index=states)\n",
    "obj4"
   ]
  },
  {
   "cell_type": "code",
   "execution_count": 36,
   "metadata": {},
   "outputs": [
    {
     "data": {
      "text/plain": [
       "Ohio          False\n",
       "New York       True\n",
       "California     True\n",
       "dtype: bool"
      ]
     },
     "execution_count": 36,
     "metadata": {},
     "output_type": "execute_result"
    }
   ],
   "source": [
    "pd.isnull(obj4)"
   ]
  },
  {
   "cell_type": "code",
   "execution_count": 38,
   "metadata": {},
   "outputs": [
    {
     "data": {
      "text/plain": [
       "Ohio           True\n",
       "New York      False\n",
       "California    False\n",
       "dtype: bool"
      ]
     },
     "execution_count": 38,
     "metadata": {},
     "output_type": "execute_result"
    }
   ],
   "source": [
    "pd.notnull(obj4)"
   ]
  },
  {
   "cell_type": "code",
   "execution_count": 39,
   "metadata": {},
   "outputs": [
    {
     "data": {
      "text/plain": [
       "California       NaN\n",
       "New York         NaN\n",
       "Ohio          7000.0\n",
       "Oregon           NaN\n",
       "Texas            NaN\n",
       "Utah             NaN\n",
       "dtype: float64"
      ]
     },
     "execution_count": 39,
     "metadata": {},
     "output_type": "execute_result"
    }
   ],
   "source": [
    "obj3+obj4"
   ]
  },
  {
   "cell_type": "code",
   "execution_count": 40,
   "metadata": {},
   "outputs": [
    {
     "data": {
      "text/plain": [
       "Index(['California', 'New York', 'Ohio', 'Oregon', 'Texas', 'Utah'], dtype='object')"
      ]
     },
     "execution_count": 40,
     "metadata": {},
     "output_type": "execute_result"
    }
   ],
   "source": [
    "(obj3+obj4).index"
   ]
  },
  {
   "cell_type": "markdown",
   "metadata": {},
   "source": [
    "## 6.2 DataFrame"
   ]
  },
  {
   "cell_type": "markdown",
   "metadata": {},
   "source": [
    "- ### dict to DataFrame"
   ]
  },
  {
   "cell_type": "code",
   "execution_count": 101,
   "metadata": {},
   "outputs": [
    {
     "data": {
      "text/html": [
       "<div>\n",
       "<style>\n",
       "    .dataframe thead tr:only-child th {\n",
       "        text-align: right;\n",
       "    }\n",
       "\n",
       "    .dataframe thead th {\n",
       "        text-align: left;\n",
       "    }\n",
       "\n",
       "    .dataframe tbody tr th {\n",
       "        vertical-align: top;\n",
       "    }\n",
       "</style>\n",
       "<table border=\"1\" class=\"dataframe\">\n",
       "  <thead>\n",
       "    <tr style=\"text-align: right;\">\n",
       "      <th></th>\n",
       "      <th>pop</th>\n",
       "      <th>state</th>\n",
       "      <th>year</th>\n",
       "    </tr>\n",
       "  </thead>\n",
       "  <tbody>\n",
       "    <tr>\n",
       "      <th>0</th>\n",
       "      <td>1.5</td>\n",
       "      <td>Ohio</td>\n",
       "      <td>2000</td>\n",
       "    </tr>\n",
       "    <tr>\n",
       "      <th>1</th>\n",
       "      <td>1.7</td>\n",
       "      <td>Ohio</td>\n",
       "      <td>2001</td>\n",
       "    </tr>\n",
       "    <tr>\n",
       "      <th>2</th>\n",
       "      <td>3.6</td>\n",
       "      <td>Ohio</td>\n",
       "      <td>2002</td>\n",
       "    </tr>\n",
       "    <tr>\n",
       "      <th>3</th>\n",
       "      <td>2.4</td>\n",
       "      <td>Nevada</td>\n",
       "      <td>2001</td>\n",
       "    </tr>\n",
       "    <tr>\n",
       "      <th>4</th>\n",
       "      <td>2.9</td>\n",
       "      <td>Nevada</td>\n",
       "      <td>2002</td>\n",
       "    </tr>\n",
       "  </tbody>\n",
       "</table>\n",
       "</div>"
      ],
      "text/plain": [
       "   pop   state  year\n",
       "0  1.5    Ohio  2000\n",
       "1  1.7    Ohio  2001\n",
       "2  3.6    Ohio  2002\n",
       "3  2.4  Nevada  2001\n",
       "4  2.9  Nevada  2002"
      ]
     },
     "execution_count": 101,
     "metadata": {},
     "output_type": "execute_result"
    }
   ],
   "source": [
    "data={'state':['Ohio','Ohio','Ohio','Nevada','Nevada'],'year':[2000,2001,2002,2001,2002],'pop':[1.5,1.7,3.6,2.4,2.9]}\n",
    "frame=DataFrame(data)\n",
    "frame"
   ]
  },
  {
   "cell_type": "code",
   "execution_count": 102,
   "metadata": {},
   "outputs": [
    {
     "data": {
      "text/plain": [
       "RangeIndex(start=0, stop=5, step=1)"
      ]
     },
     "execution_count": 102,
     "metadata": {},
     "output_type": "execute_result"
    }
   ],
   "source": [
    "frame.index"
   ]
  },
  {
   "cell_type": "code",
   "execution_count": 103,
   "metadata": {},
   "outputs": [
    {
     "data": {
      "text/html": [
       "<div>\n",
       "<style>\n",
       "    .dataframe thead tr:only-child th {\n",
       "        text-align: right;\n",
       "    }\n",
       "\n",
       "    .dataframe thead th {\n",
       "        text-align: left;\n",
       "    }\n",
       "\n",
       "    .dataframe tbody tr th {\n",
       "        vertical-align: top;\n",
       "    }\n",
       "</style>\n",
       "<table border=\"1\" class=\"dataframe\">\n",
       "  <thead>\n",
       "    <tr style=\"text-align: right;\">\n",
       "      <th></th>\n",
       "      <th>state</th>\n",
       "      <th>pop</th>\n",
       "      <th>year</th>\n",
       "    </tr>\n",
       "  </thead>\n",
       "  <tbody>\n",
       "    <tr>\n",
       "      <th>0</th>\n",
       "      <td>Ohio</td>\n",
       "      <td>1.5</td>\n",
       "      <td>2000</td>\n",
       "    </tr>\n",
       "    <tr>\n",
       "      <th>1</th>\n",
       "      <td>Ohio</td>\n",
       "      <td>1.7</td>\n",
       "      <td>2001</td>\n",
       "    </tr>\n",
       "    <tr>\n",
       "      <th>2</th>\n",
       "      <td>Ohio</td>\n",
       "      <td>3.6</td>\n",
       "      <td>2002</td>\n",
       "    </tr>\n",
       "    <tr>\n",
       "      <th>3</th>\n",
       "      <td>Nevada</td>\n",
       "      <td>2.4</td>\n",
       "      <td>2001</td>\n",
       "    </tr>\n",
       "    <tr>\n",
       "      <th>4</th>\n",
       "      <td>Nevada</td>\n",
       "      <td>2.9</td>\n",
       "      <td>2002</td>\n",
       "    </tr>\n",
       "  </tbody>\n",
       "</table>\n",
       "</div>"
      ],
      "text/plain": [
       "    state  pop  year\n",
       "0    Ohio  1.5  2000\n",
       "1    Ohio  1.7  2001\n",
       "2    Ohio  3.6  2002\n",
       "3  Nevada  2.4  2001\n",
       "4  Nevada  2.9  2002"
      ]
     },
     "execution_count": 103,
     "metadata": {},
     "output_type": "execute_result"
    }
   ],
   "source": [
    "frame2=DataFrame(data,columns=['state','pop','year'])\n",
    "frame2"
   ]
  },
  {
   "cell_type": "code",
   "execution_count": 104,
   "metadata": {},
   "outputs": [
    {
     "data": {
      "text/html": [
       "<div>\n",
       "<style>\n",
       "    .dataframe thead tr:only-child th {\n",
       "        text-align: right;\n",
       "    }\n",
       "\n",
       "    .dataframe thead th {\n",
       "        text-align: left;\n",
       "    }\n",
       "\n",
       "    .dataframe tbody tr th {\n",
       "        vertical-align: top;\n",
       "    }\n",
       "</style>\n",
       "<table border=\"1\" class=\"dataframe\">\n",
       "  <thead>\n",
       "    <tr style=\"text-align: right;\">\n",
       "      <th></th>\n",
       "      <th>pop</th>\n",
       "      <th>state</th>\n",
       "      <th>year</th>\n",
       "    </tr>\n",
       "  </thead>\n",
       "  <tbody>\n",
       "    <tr>\n",
       "      <th>one</th>\n",
       "      <td>1.5</td>\n",
       "      <td>Ohio</td>\n",
       "      <td>2000</td>\n",
       "    </tr>\n",
       "    <tr>\n",
       "      <th>two</th>\n",
       "      <td>1.7</td>\n",
       "      <td>Ohio</td>\n",
       "      <td>2001</td>\n",
       "    </tr>\n",
       "    <tr>\n",
       "      <th>three</th>\n",
       "      <td>3.6</td>\n",
       "      <td>Ohio</td>\n",
       "      <td>2002</td>\n",
       "    </tr>\n",
       "    <tr>\n",
       "      <th>four</th>\n",
       "      <td>2.4</td>\n",
       "      <td>Nevada</td>\n",
       "      <td>2001</td>\n",
       "    </tr>\n",
       "    <tr>\n",
       "      <th>five</th>\n",
       "      <td>2.9</td>\n",
       "      <td>Nevada</td>\n",
       "      <td>2002</td>\n",
       "    </tr>\n",
       "  </tbody>\n",
       "</table>\n",
       "</div>"
      ],
      "text/plain": [
       "       pop   state  year\n",
       "one    1.5    Ohio  2000\n",
       "two    1.7    Ohio  2001\n",
       "three  3.6    Ohio  2002\n",
       "four   2.4  Nevada  2001\n",
       "five   2.9  Nevada  2002"
      ]
     },
     "execution_count": 104,
     "metadata": {},
     "output_type": "execute_result"
    }
   ],
   "source": [
    "frame3=DataFrame(data,index=['one','two','three','four','five'])\n",
    "frame3"
   ]
  },
  {
   "cell_type": "code",
   "execution_count": 119,
   "metadata": {},
   "outputs": [
    {
     "data": {
      "text/plain": [
       "Index(['pop', 'state', 'year', 'debt'], dtype='object')"
      ]
     },
     "execution_count": 119,
     "metadata": {},
     "output_type": "execute_result"
    }
   ],
   "source": [
    "frame3.columns"
   ]
  },
  {
   "cell_type": "code",
   "execution_count": 120,
   "metadata": {},
   "outputs": [
    {
     "data": {
      "text/plain": [
       "array([[1.5, 'Ohio', 2000, 0],\n",
       "       [1.7, 'Ohio', 2001, 1],\n",
       "       [3.6, 'Ohio', 2002, 2],\n",
       "       [2.4, 'Nevada', 2001, 3],\n",
       "       [2.9, 'Nevada', 2002, 4]], dtype=object)"
      ]
     },
     "execution_count": 120,
     "metadata": {},
     "output_type": "execute_result"
    }
   ],
   "source": [
    "frame3.values"
   ]
  },
  {
   "cell_type": "code",
   "execution_count": 106,
   "metadata": {},
   "outputs": [
    {
     "data": {
      "text/plain": [
       "one        Ohio\n",
       "two        Ohio\n",
       "three      Ohio\n",
       "four     Nevada\n",
       "five     Nevada\n",
       "Name: state, dtype: object"
      ]
     },
     "execution_count": 106,
     "metadata": {},
     "output_type": "execute_result"
    }
   ],
   "source": [
    "frame3['state']"
   ]
  },
  {
   "cell_type": "code",
   "execution_count": 107,
   "metadata": {},
   "outputs": [
    {
     "data": {
      "text/plain": [
       "one        Ohio\n",
       "two        Ohio\n",
       "three      Ohio\n",
       "four     Nevada\n",
       "five     Nevada\n",
       "Name: state, dtype: object"
      ]
     },
     "execution_count": 107,
     "metadata": {},
     "output_type": "execute_result"
    }
   ],
   "source": [
    "frame3.state"
   ]
  },
  {
   "cell_type": "code",
   "execution_count": 108,
   "metadata": {},
   "outputs": [
    {
     "data": {
      "text/html": [
       "<div>\n",
       "<style>\n",
       "    .dataframe thead tr:only-child th {\n",
       "        text-align: right;\n",
       "    }\n",
       "\n",
       "    .dataframe thead th {\n",
       "        text-align: left;\n",
       "    }\n",
       "\n",
       "    .dataframe tbody tr th {\n",
       "        vertical-align: top;\n",
       "    }\n",
       "</style>\n",
       "<table border=\"1\" class=\"dataframe\">\n",
       "  <thead>\n",
       "    <tr style=\"text-align: right;\">\n",
       "      <th></th>\n",
       "      <th>pop</th>\n",
       "      <th>state</th>\n",
       "      <th>year</th>\n",
       "      <th>debt</th>\n",
       "    </tr>\n",
       "  </thead>\n",
       "  <tbody>\n",
       "    <tr>\n",
       "      <th>one</th>\n",
       "      <td>1.5</td>\n",
       "      <td>Ohio</td>\n",
       "      <td>2000</td>\n",
       "      <td>12</td>\n",
       "    </tr>\n",
       "    <tr>\n",
       "      <th>two</th>\n",
       "      <td>1.7</td>\n",
       "      <td>Ohio</td>\n",
       "      <td>2001</td>\n",
       "      <td>12</td>\n",
       "    </tr>\n",
       "    <tr>\n",
       "      <th>three</th>\n",
       "      <td>3.6</td>\n",
       "      <td>Ohio</td>\n",
       "      <td>2002</td>\n",
       "      <td>12</td>\n",
       "    </tr>\n",
       "    <tr>\n",
       "      <th>four</th>\n",
       "      <td>2.4</td>\n",
       "      <td>Nevada</td>\n",
       "      <td>2001</td>\n",
       "      <td>12</td>\n",
       "    </tr>\n",
       "    <tr>\n",
       "      <th>five</th>\n",
       "      <td>2.9</td>\n",
       "      <td>Nevada</td>\n",
       "      <td>2002</td>\n",
       "      <td>12</td>\n",
       "    </tr>\n",
       "  </tbody>\n",
       "</table>\n",
       "</div>"
      ],
      "text/plain": [
       "       pop   state  year  debt\n",
       "one    1.5    Ohio  2000    12\n",
       "two    1.7    Ohio  2001    12\n",
       "three  3.6    Ohio  2002    12\n",
       "four   2.4  Nevada  2001    12\n",
       "five   2.9  Nevada  2002    12"
      ]
     },
     "execution_count": 108,
     "metadata": {},
     "output_type": "execute_result"
    }
   ],
   "source": [
    "frame3['debt']=12\n",
    "frame3"
   ]
  },
  {
   "cell_type": "code",
   "execution_count": 109,
   "metadata": {},
   "outputs": [
    {
     "data": {
      "text/html": [
       "<div>\n",
       "<style>\n",
       "    .dataframe thead tr:only-child th {\n",
       "        text-align: right;\n",
       "    }\n",
       "\n",
       "    .dataframe thead th {\n",
       "        text-align: left;\n",
       "    }\n",
       "\n",
       "    .dataframe tbody tr th {\n",
       "        vertical-align: top;\n",
       "    }\n",
       "</style>\n",
       "<table border=\"1\" class=\"dataframe\">\n",
       "  <thead>\n",
       "    <tr style=\"text-align: right;\">\n",
       "      <th></th>\n",
       "      <th>pop</th>\n",
       "      <th>state</th>\n",
       "      <th>year</th>\n",
       "      <th>debt</th>\n",
       "    </tr>\n",
       "  </thead>\n",
       "  <tbody>\n",
       "    <tr>\n",
       "      <th>one</th>\n",
       "      <td>1.5</td>\n",
       "      <td>Ohio</td>\n",
       "      <td>2000</td>\n",
       "      <td>0</td>\n",
       "    </tr>\n",
       "    <tr>\n",
       "      <th>two</th>\n",
       "      <td>1.7</td>\n",
       "      <td>Ohio</td>\n",
       "      <td>2001</td>\n",
       "      <td>1</td>\n",
       "    </tr>\n",
       "    <tr>\n",
       "      <th>three</th>\n",
       "      <td>3.6</td>\n",
       "      <td>Ohio</td>\n",
       "      <td>2002</td>\n",
       "      <td>2</td>\n",
       "    </tr>\n",
       "    <tr>\n",
       "      <th>four</th>\n",
       "      <td>2.4</td>\n",
       "      <td>Nevada</td>\n",
       "      <td>2001</td>\n",
       "      <td>3</td>\n",
       "    </tr>\n",
       "    <tr>\n",
       "      <th>five</th>\n",
       "      <td>2.9</td>\n",
       "      <td>Nevada</td>\n",
       "      <td>2002</td>\n",
       "      <td>4</td>\n",
       "    </tr>\n",
       "  </tbody>\n",
       "</table>\n",
       "</div>"
      ],
      "text/plain": [
       "       pop   state  year  debt\n",
       "one    1.5    Ohio  2000     0\n",
       "two    1.7    Ohio  2001     1\n",
       "three  3.6    Ohio  2002     2\n",
       "four   2.4  Nevada  2001     3\n",
       "five   2.9  Nevada  2002     4"
      ]
     },
     "execution_count": 109,
     "metadata": {},
     "output_type": "execute_result"
    }
   ],
   "source": [
    "frame3['debt']=range(5)\n",
    "frame3"
   ]
  },
  {
   "cell_type": "code",
   "execution_count": 117,
   "metadata": {},
   "outputs": [
    {
     "data": {
      "text/plain": [
       "pop         2.4\n",
       "state    Nevada\n",
       "year       2001\n",
       "debt          3\n",
       "Name: four, dtype: object"
      ]
     },
     "execution_count": 117,
     "metadata": {},
     "output_type": "execute_result"
    }
   ],
   "source": [
    "frame3.ix[3]"
   ]
  },
  {
   "cell_type": "code",
   "execution_count": 111,
   "metadata": {},
   "outputs": [
    {
     "data": {
      "text/plain": [
       "pop         2.4\n",
       "state    Nevada\n",
       "year       2001\n",
       "debt          3\n",
       "Name: four, dtype: object"
      ]
     },
     "execution_count": 111,
     "metadata": {},
     "output_type": "execute_result"
    }
   ],
   "source": [
    "frame3.ix['four']"
   ]
  },
  {
   "cell_type": "code",
   "execution_count": 112,
   "metadata": {},
   "outputs": [
    {
     "data": {
      "text/html": [
       "<div>\n",
       "<style>\n",
       "    .dataframe thead tr:only-child th {\n",
       "        text-align: right;\n",
       "    }\n",
       "\n",
       "    .dataframe thead th {\n",
       "        text-align: left;\n",
       "    }\n",
       "\n",
       "    .dataframe tbody tr th {\n",
       "        vertical-align: top;\n",
       "    }\n",
       "</style>\n",
       "<table border=\"1\" class=\"dataframe\">\n",
       "  <thead>\n",
       "    <tr style=\"text-align: right;\">\n",
       "      <th></th>\n",
       "      <th>pop</th>\n",
       "      <th>state</th>\n",
       "      <th>year</th>\n",
       "      <th>debt</th>\n",
       "      <th>eastern</th>\n",
       "    </tr>\n",
       "  </thead>\n",
       "  <tbody>\n",
       "    <tr>\n",
       "      <th>one</th>\n",
       "      <td>1.5</td>\n",
       "      <td>Ohio</td>\n",
       "      <td>2000</td>\n",
       "      <td>0</td>\n",
       "      <td>True</td>\n",
       "    </tr>\n",
       "    <tr>\n",
       "      <th>two</th>\n",
       "      <td>1.7</td>\n",
       "      <td>Ohio</td>\n",
       "      <td>2001</td>\n",
       "      <td>1</td>\n",
       "      <td>True</td>\n",
       "    </tr>\n",
       "    <tr>\n",
       "      <th>three</th>\n",
       "      <td>3.6</td>\n",
       "      <td>Ohio</td>\n",
       "      <td>2002</td>\n",
       "      <td>2</td>\n",
       "      <td>True</td>\n",
       "    </tr>\n",
       "    <tr>\n",
       "      <th>four</th>\n",
       "      <td>2.4</td>\n",
       "      <td>Nevada</td>\n",
       "      <td>2001</td>\n",
       "      <td>3</td>\n",
       "      <td>False</td>\n",
       "    </tr>\n",
       "    <tr>\n",
       "      <th>five</th>\n",
       "      <td>2.9</td>\n",
       "      <td>Nevada</td>\n",
       "      <td>2002</td>\n",
       "      <td>4</td>\n",
       "      <td>False</td>\n",
       "    </tr>\n",
       "  </tbody>\n",
       "</table>\n",
       "</div>"
      ],
      "text/plain": [
       "       pop   state  year  debt  eastern\n",
       "one    1.5    Ohio  2000     0     True\n",
       "two    1.7    Ohio  2001     1     True\n",
       "three  3.6    Ohio  2002     2     True\n",
       "four   2.4  Nevada  2001     3    False\n",
       "five   2.9  Nevada  2002     4    False"
      ]
     },
     "execution_count": 112,
     "metadata": {},
     "output_type": "execute_result"
    }
   ],
   "source": [
    "frame3['eastern']=frame3.state=='Ohio'\n",
    "frame3"
   ]
  },
  {
   "cell_type": "code",
   "execution_count": 114,
   "metadata": {
    "collapsed": true
   },
   "outputs": [],
   "source": [
    "frame3.columns\n",
    "del frame3['eastern']"
   ]
  },
  {
   "cell_type": "code",
   "execution_count": 115,
   "metadata": {},
   "outputs": [
    {
     "data": {
      "text/html": [
       "<div>\n",
       "<style>\n",
       "    .dataframe thead tr:only-child th {\n",
       "        text-align: right;\n",
       "    }\n",
       "\n",
       "    .dataframe thead th {\n",
       "        text-align: left;\n",
       "    }\n",
       "\n",
       "    .dataframe tbody tr th {\n",
       "        vertical-align: top;\n",
       "    }\n",
       "</style>\n",
       "<table border=\"1\" class=\"dataframe\">\n",
       "  <thead>\n",
       "    <tr style=\"text-align: right;\">\n",
       "      <th></th>\n",
       "      <th>pop</th>\n",
       "      <th>state</th>\n",
       "      <th>year</th>\n",
       "      <th>debt</th>\n",
       "    </tr>\n",
       "  </thead>\n",
       "  <tbody>\n",
       "    <tr>\n",
       "      <th>one</th>\n",
       "      <td>1.5</td>\n",
       "      <td>Ohio</td>\n",
       "      <td>2000</td>\n",
       "      <td>0</td>\n",
       "    </tr>\n",
       "    <tr>\n",
       "      <th>two</th>\n",
       "      <td>1.7</td>\n",
       "      <td>Ohio</td>\n",
       "      <td>2001</td>\n",
       "      <td>1</td>\n",
       "    </tr>\n",
       "    <tr>\n",
       "      <th>three</th>\n",
       "      <td>3.6</td>\n",
       "      <td>Ohio</td>\n",
       "      <td>2002</td>\n",
       "      <td>2</td>\n",
       "    </tr>\n",
       "    <tr>\n",
       "      <th>four</th>\n",
       "      <td>2.4</td>\n",
       "      <td>Nevada</td>\n",
       "      <td>2001</td>\n",
       "      <td>3</td>\n",
       "    </tr>\n",
       "    <tr>\n",
       "      <th>five</th>\n",
       "      <td>2.9</td>\n",
       "      <td>Nevada</td>\n",
       "      <td>2002</td>\n",
       "      <td>4</td>\n",
       "    </tr>\n",
       "  </tbody>\n",
       "</table>\n",
       "</div>"
      ],
      "text/plain": [
       "       pop   state  year  debt\n",
       "one    1.5    Ohio  2000     0\n",
       "two    1.7    Ohio  2001     1\n",
       "three  3.6    Ohio  2002     2\n",
       "four   2.4  Nevada  2001     3\n",
       "five   2.9  Nevada  2002     4"
      ]
     },
     "execution_count": 115,
     "metadata": {},
     "output_type": "execute_result"
    }
   ],
   "source": [
    "frame3"
   ]
  },
  {
   "cell_type": "code",
   "execution_count": 116,
   "metadata": {},
   "outputs": [
    {
     "data": {
      "text/html": [
       "<div>\n",
       "<style>\n",
       "    .dataframe thead tr:only-child th {\n",
       "        text-align: right;\n",
       "    }\n",
       "\n",
       "    .dataframe thead th {\n",
       "        text-align: left;\n",
       "    }\n",
       "\n",
       "    .dataframe tbody tr th {\n",
       "        vertical-align: top;\n",
       "    }\n",
       "</style>\n",
       "<table border=\"1\" class=\"dataframe\">\n",
       "  <thead>\n",
       "    <tr style=\"text-align: right;\">\n",
       "      <th></th>\n",
       "      <th>one</th>\n",
       "      <th>two</th>\n",
       "      <th>three</th>\n",
       "      <th>four</th>\n",
       "      <th>five</th>\n",
       "    </tr>\n",
       "  </thead>\n",
       "  <tbody>\n",
       "    <tr>\n",
       "      <th>pop</th>\n",
       "      <td>1.5</td>\n",
       "      <td>1.7</td>\n",
       "      <td>3.6</td>\n",
       "      <td>2.4</td>\n",
       "      <td>2.9</td>\n",
       "    </tr>\n",
       "    <tr>\n",
       "      <th>state</th>\n",
       "      <td>Ohio</td>\n",
       "      <td>Ohio</td>\n",
       "      <td>Ohio</td>\n",
       "      <td>Nevada</td>\n",
       "      <td>Nevada</td>\n",
       "    </tr>\n",
       "    <tr>\n",
       "      <th>year</th>\n",
       "      <td>2000</td>\n",
       "      <td>2001</td>\n",
       "      <td>2002</td>\n",
       "      <td>2001</td>\n",
       "      <td>2002</td>\n",
       "    </tr>\n",
       "    <tr>\n",
       "      <th>debt</th>\n",
       "      <td>0</td>\n",
       "      <td>1</td>\n",
       "      <td>2</td>\n",
       "      <td>3</td>\n",
       "      <td>4</td>\n",
       "    </tr>\n",
       "  </tbody>\n",
       "</table>\n",
       "</div>"
      ],
      "text/plain": [
       "        one   two three    four    five\n",
       "pop     1.5   1.7   3.6     2.4     2.9\n",
       "state  Ohio  Ohio  Ohio  Nevada  Nevada\n",
       "year   2000  2001  2002    2001    2002\n",
       "debt      0     1     2       3       4"
      ]
     },
     "execution_count": 116,
     "metadata": {},
     "output_type": "execute_result"
    }
   ],
   "source": [
    "frame3.T"
   ]
  },
  {
   "cell_type": "markdown",
   "metadata": {},
   "source": [
    "- ### index对象"
   ]
  },
  {
   "cell_type": "code",
   "execution_count": 161,
   "metadata": {},
   "outputs": [
    {
     "data": {
      "text/plain": [
       "Index(['one', 'two', 'three', 'four', 'five'], dtype='object')"
      ]
     },
     "execution_count": 161,
     "metadata": {},
     "output_type": "execute_result"
    }
   ],
   "source": [
    "ind = frame3.index\n",
    "ind"
   ]
  },
  {
   "cell_type": "code",
   "execution_count": 162,
   "metadata": {},
   "outputs": [
    {
     "data": {
      "text/plain": [
       "Index(['one', 'two', 'three'], dtype='object')"
      ]
     },
     "execution_count": 162,
     "metadata": {},
     "output_type": "execute_result"
    }
   ],
   "source": [
    "ind[:3]"
   ]
  },
  {
   "cell_type": "code",
   "execution_count": 163,
   "metadata": {},
   "outputs": [
    {
     "ename": "TypeError",
     "evalue": "Index does not support mutable operations",
     "output_type": "error",
     "traceback": [
      "\u001b[0;31m---------------------------------------------------------------------------\u001b[0m",
      "\u001b[0;31mTypeError\u001b[0m                                 Traceback (most recent call last)",
      "\u001b[0;32m<ipython-input-163-e8d7dc8011b1>\u001b[0m in \u001b[0;36m<module>\u001b[0;34m()\u001b[0m\n\u001b[1;32m      1\u001b[0m \u001b[0;31m#index是immutable对象,　不可以修改已经有的值\u001b[0m\u001b[0;34m\u001b[0m\u001b[0;34m\u001b[0m\u001b[0m\n\u001b[0;32m----> 2\u001b[0;31m \u001b[0mind\u001b[0m\u001b[0;34m[\u001b[0m\u001b[0;36m3\u001b[0m\u001b[0;34m]\u001b[0m\u001b[0;34m=\u001b[0m\u001b[0;34m'三'\u001b[0m\u001b[0;34m\u001b[0m\u001b[0m\n\u001b[0m",
      "\u001b[0;32m/usr/local/lib/python3.5/dist-packages/pandas/core/indexes/base.py\u001b[0m in \u001b[0;36m__setitem__\u001b[0;34m(self, key, value)\u001b[0m\n\u001b[1;32m   1668\u001b[0m \u001b[0;34m\u001b[0m\u001b[0m\n\u001b[1;32m   1669\u001b[0m     \u001b[0;32mdef\u001b[0m \u001b[0m__setitem__\u001b[0m\u001b[0;34m(\u001b[0m\u001b[0mself\u001b[0m\u001b[0;34m,\u001b[0m \u001b[0mkey\u001b[0m\u001b[0;34m,\u001b[0m \u001b[0mvalue\u001b[0m\u001b[0;34m)\u001b[0m\u001b[0;34m:\u001b[0m\u001b[0;34m\u001b[0m\u001b[0m\n\u001b[0;32m-> 1670\u001b[0;31m         \u001b[0;32mraise\u001b[0m \u001b[0mTypeError\u001b[0m\u001b[0;34m(\u001b[0m\u001b[0;34m\"Index does not support mutable operations\"\u001b[0m\u001b[0;34m)\u001b[0m\u001b[0;34m\u001b[0m\u001b[0m\n\u001b[0m\u001b[1;32m   1671\u001b[0m \u001b[0;34m\u001b[0m\u001b[0m\n\u001b[1;32m   1672\u001b[0m     \u001b[0;32mdef\u001b[0m \u001b[0m__getitem__\u001b[0m\u001b[0;34m(\u001b[0m\u001b[0mself\u001b[0m\u001b[0;34m,\u001b[0m \u001b[0mkey\u001b[0m\u001b[0;34m)\u001b[0m\u001b[0;34m:\u001b[0m\u001b[0;34m\u001b[0m\u001b[0m\n",
      "\u001b[0;31mTypeError\u001b[0m: Index does not support mutable operations"
     ]
    }
   ],
   "source": [
    "#index是immutable对象,　不可以修改已经有的值\n",
    "ind[3]='三'"
   ]
  },
  {
   "cell_type": "code",
   "execution_count": 164,
   "metadata": {},
   "outputs": [
    {
     "data": {
      "text/html": [
       "<div>\n",
       "<style>\n",
       "    .dataframe thead tr:only-child th {\n",
       "        text-align: right;\n",
       "    }\n",
       "\n",
       "    .dataframe thead th {\n",
       "        text-align: left;\n",
       "    }\n",
       "\n",
       "    .dataframe tbody tr th {\n",
       "        vertical-align: top;\n",
       "    }\n",
       "</style>\n",
       "<table border=\"1\" class=\"dataframe\">\n",
       "  <thead>\n",
       "    <tr style=\"text-align: right;\">\n",
       "      <th></th>\n",
       "      <th>pop</th>\n",
       "      <th>state</th>\n",
       "      <th>year</th>\n",
       "      <th>debt</th>\n",
       "    </tr>\n",
       "  </thead>\n",
       "  <tbody>\n",
       "    <tr>\n",
       "      <th>two</th>\n",
       "      <td>1.7</td>\n",
       "      <td>Ohio</td>\n",
       "      <td>2001.0</td>\n",
       "      <td>1.0</td>\n",
       "    </tr>\n",
       "    <tr>\n",
       "      <th>three</th>\n",
       "      <td>3.6</td>\n",
       "      <td>Ohio</td>\n",
       "      <td>2002.0</td>\n",
       "      <td>2.0</td>\n",
       "    </tr>\n",
       "    <tr>\n",
       "      <th>four</th>\n",
       "      <td>2.4</td>\n",
       "      <td>Nevada</td>\n",
       "      <td>2001.0</td>\n",
       "      <td>3.0</td>\n",
       "    </tr>\n",
       "    <tr>\n",
       "      <th>one</th>\n",
       "      <td>1.5</td>\n",
       "      <td>Ohio</td>\n",
       "      <td>2000.0</td>\n",
       "      <td>0.0</td>\n",
       "    </tr>\n",
       "    <tr>\n",
       "      <th>five</th>\n",
       "      <td>2.9</td>\n",
       "      <td>Nevada</td>\n",
       "      <td>2002.0</td>\n",
       "      <td>4.0</td>\n",
       "    </tr>\n",
       "    <tr>\n",
       "      <th>six</th>\n",
       "      <td>NaN</td>\n",
       "      <td>NaN</td>\n",
       "      <td>NaN</td>\n",
       "      <td>NaN</td>\n",
       "    </tr>\n",
       "    <tr>\n",
       "      <th>seven</th>\n",
       "      <td>NaN</td>\n",
       "      <td>NaN</td>\n",
       "      <td>NaN</td>\n",
       "      <td>NaN</td>\n",
       "    </tr>\n",
       "  </tbody>\n",
       "</table>\n",
       "</div>"
      ],
      "text/plain": [
       "       pop   state    year  debt\n",
       "two    1.7    Ohio  2001.0   1.0\n",
       "three  3.6    Ohio  2002.0   2.0\n",
       "four   2.4  Nevada  2001.0   3.0\n",
       "one    1.5    Ohio  2000.0   0.0\n",
       "five   2.9  Nevada  2002.0   4.0\n",
       "six    NaN     NaN     NaN   NaN\n",
       "seven  NaN     NaN     NaN   NaN"
      ]
     },
     "execution_count": 164,
     "metadata": {},
     "output_type": "execute_result"
    }
   ],
   "source": [
    "frame3.reindex(['two','three','four','one','five','six','seven'])"
   ]
  },
  {
   "cell_type": "code",
   "execution_count": 165,
   "metadata": {},
   "outputs": [
    {
     "data": {
      "text/html": [
       "<div>\n",
       "<style>\n",
       "    .dataframe thead tr:only-child th {\n",
       "        text-align: right;\n",
       "    }\n",
       "\n",
       "    .dataframe thead th {\n",
       "        text-align: left;\n",
       "    }\n",
       "\n",
       "    .dataframe tbody tr th {\n",
       "        vertical-align: top;\n",
       "    }\n",
       "</style>\n",
       "<table border=\"1\" class=\"dataframe\">\n",
       "  <thead>\n",
       "    <tr style=\"text-align: right;\">\n",
       "      <th></th>\n",
       "      <th>pop</th>\n",
       "      <th>state</th>\n",
       "      <th>year</th>\n",
       "      <th>debt</th>\n",
       "    </tr>\n",
       "  </thead>\n",
       "  <tbody>\n",
       "    <tr>\n",
       "      <th>two</th>\n",
       "      <td>1.7</td>\n",
       "      <td>Ohio</td>\n",
       "      <td>2001</td>\n",
       "      <td>1</td>\n",
       "    </tr>\n",
       "    <tr>\n",
       "      <th>three</th>\n",
       "      <td>3.6</td>\n",
       "      <td>Ohio</td>\n",
       "      <td>2002</td>\n",
       "      <td>2</td>\n",
       "    </tr>\n",
       "    <tr>\n",
       "      <th>four</th>\n",
       "      <td>2.4</td>\n",
       "      <td>Nevada</td>\n",
       "      <td>2001</td>\n",
       "      <td>3</td>\n",
       "    </tr>\n",
       "    <tr>\n",
       "      <th>one</th>\n",
       "      <td>1.5</td>\n",
       "      <td>Ohio</td>\n",
       "      <td>2000</td>\n",
       "      <td>0</td>\n",
       "    </tr>\n",
       "    <tr>\n",
       "      <th>five</th>\n",
       "      <td>2.9</td>\n",
       "      <td>Nevada</td>\n",
       "      <td>2002</td>\n",
       "      <td>4</td>\n",
       "    </tr>\n",
       "    <tr>\n",
       "      <th>six</th>\n",
       "      <td>100.0</td>\n",
       "      <td>100</td>\n",
       "      <td>100</td>\n",
       "      <td>100</td>\n",
       "    </tr>\n",
       "    <tr>\n",
       "      <th>seven</th>\n",
       "      <td>100.0</td>\n",
       "      <td>100</td>\n",
       "      <td>100</td>\n",
       "      <td>100</td>\n",
       "    </tr>\n",
       "  </tbody>\n",
       "</table>\n",
       "</div>"
      ],
      "text/plain": [
       "         pop   state  year  debt\n",
       "two      1.7    Ohio  2001     1\n",
       "three    3.6    Ohio  2002     2\n",
       "four     2.4  Nevada  2001     3\n",
       "one      1.5    Ohio  2000     0\n",
       "five     2.9  Nevada  2002     4\n",
       "six    100.0     100   100   100\n",
       "seven  100.0     100   100   100"
      ]
     },
     "execution_count": 165,
     "metadata": {},
     "output_type": "execute_result"
    }
   ],
   "source": [
    "frame3.reindex(['two','three','four','one','five','six','seven'],fill_value=100)"
   ]
  },
  {
   "cell_type": "code",
   "execution_count": 166,
   "metadata": {},
   "outputs": [
    {
     "data": {
      "text/html": [
       "<div>\n",
       "<style>\n",
       "    .dataframe thead tr:only-child th {\n",
       "        text-align: right;\n",
       "    }\n",
       "\n",
       "    .dataframe thead th {\n",
       "        text-align: left;\n",
       "    }\n",
       "\n",
       "    .dataframe tbody tr th {\n",
       "        vertical-align: top;\n",
       "    }\n",
       "</style>\n",
       "<table border=\"1\" class=\"dataframe\">\n",
       "  <thead>\n",
       "    <tr style=\"text-align: right;\">\n",
       "      <th></th>\n",
       "      <th>pop</th>\n",
       "      <th>state</th>\n",
       "      <th>year</th>\n",
       "      <th>debt</th>\n",
       "    </tr>\n",
       "  </thead>\n",
       "  <tbody>\n",
       "    <tr>\n",
       "      <th>one</th>\n",
       "      <td>1.5</td>\n",
       "      <td>Ohio</td>\n",
       "      <td>2000</td>\n",
       "      <td>0</td>\n",
       "    </tr>\n",
       "    <tr>\n",
       "      <th>two</th>\n",
       "      <td>1.7</td>\n",
       "      <td>Ohio</td>\n",
       "      <td>2001</td>\n",
       "      <td>1</td>\n",
       "    </tr>\n",
       "    <tr>\n",
       "      <th>three</th>\n",
       "      <td>3.6</td>\n",
       "      <td>Ohio</td>\n",
       "      <td>2002</td>\n",
       "      <td>2</td>\n",
       "    </tr>\n",
       "    <tr>\n",
       "      <th>four</th>\n",
       "      <td>2.4</td>\n",
       "      <td>Nevada</td>\n",
       "      <td>2001</td>\n",
       "      <td>3</td>\n",
       "    </tr>\n",
       "    <tr>\n",
       "      <th>five</th>\n",
       "      <td>2.9</td>\n",
       "      <td>Nevada</td>\n",
       "      <td>2002</td>\n",
       "      <td>4</td>\n",
       "    </tr>\n",
       "  </tbody>\n",
       "</table>\n",
       "</div>"
      ],
      "text/plain": [
       "       pop   state  year  debt\n",
       "one    1.5    Ohio  2000     0\n",
       "two    1.7    Ohio  2001     1\n",
       "three  3.6    Ohio  2002     2\n",
       "four   2.4  Nevada  2001     3\n",
       "five   2.9  Nevada  2002     4"
      ]
     },
     "execution_count": 166,
     "metadata": {},
     "output_type": "execute_result"
    }
   ],
   "source": [
    "frame３"
   ]
  },
  {
   "cell_type": "code",
   "execution_count": 167,
   "metadata": {
    "collapsed": true
   },
   "outputs": [],
   "source": [
    "# frame3.drop(['six'])"
   ]
  },
  {
   "cell_type": "code",
   "execution_count": 168,
   "metadata": {},
   "outputs": [
    {
     "data": {
      "text/html": [
       "<div>\n",
       "<style>\n",
       "    .dataframe thead tr:only-child th {\n",
       "        text-align: right;\n",
       "    }\n",
       "\n",
       "    .dataframe thead th {\n",
       "        text-align: left;\n",
       "    }\n",
       "\n",
       "    .dataframe tbody tr th {\n",
       "        vertical-align: top;\n",
       "    }\n",
       "</style>\n",
       "<table border=\"1\" class=\"dataframe\">\n",
       "  <thead>\n",
       "    <tr style=\"text-align: right;\">\n",
       "      <th></th>\n",
       "      <th>pop</th>\n",
       "      <th>state</th>\n",
       "      <th>year</th>\n",
       "      <th>debt</th>\n",
       "    </tr>\n",
       "  </thead>\n",
       "  <tbody>\n",
       "    <tr>\n",
       "      <th>one</th>\n",
       "      <td>1.5</td>\n",
       "      <td>Ohio</td>\n",
       "      <td>2000</td>\n",
       "      <td>0</td>\n",
       "    </tr>\n",
       "    <tr>\n",
       "      <th>two</th>\n",
       "      <td>1.7</td>\n",
       "      <td>Ohio</td>\n",
       "      <td>2001</td>\n",
       "      <td>1</td>\n",
       "    </tr>\n",
       "    <tr>\n",
       "      <th>three</th>\n",
       "      <td>3.6</td>\n",
       "      <td>Ohio</td>\n",
       "      <td>2002</td>\n",
       "      <td>2</td>\n",
       "    </tr>\n",
       "    <tr>\n",
       "      <th>four</th>\n",
       "      <td>2.4</td>\n",
       "      <td>Nevada</td>\n",
       "      <td>2001</td>\n",
       "      <td>3</td>\n",
       "    </tr>\n",
       "    <tr>\n",
       "      <th>five</th>\n",
       "      <td>2.9</td>\n",
       "      <td>Nevada</td>\n",
       "      <td>2002</td>\n",
       "      <td>4</td>\n",
       "    </tr>\n",
       "  </tbody>\n",
       "</table>\n",
       "</div>"
      ],
      "text/plain": [
       "       pop   state  year  debt\n",
       "one    1.5    Ohio  2000     0\n",
       "two    1.7    Ohio  2001     1\n",
       "three  3.6    Ohio  2002     2\n",
       "four   2.4  Nevada  2001     3\n",
       "five   2.9  Nevada  2002     4"
      ]
     },
     "execution_count": 168,
     "metadata": {},
     "output_type": "execute_result"
    }
   ],
   "source": [
    "frame3"
   ]
  },
  {
   "cell_type": "code",
   "execution_count": 169,
   "metadata": {},
   "outputs": [
    {
     "data": {
      "text/html": [
       "<div>\n",
       "<style>\n",
       "    .dataframe thead tr:only-child th {\n",
       "        text-align: right;\n",
       "    }\n",
       "\n",
       "    .dataframe thead th {\n",
       "        text-align: left;\n",
       "    }\n",
       "\n",
       "    .dataframe tbody tr th {\n",
       "        vertical-align: top;\n",
       "    }\n",
       "</style>\n",
       "<table border=\"1\" class=\"dataframe\">\n",
       "  <thead>\n",
       "    <tr style=\"text-align: right;\">\n",
       "      <th></th>\n",
       "      <th>pop</th>\n",
       "      <th>state</th>\n",
       "      <th>year</th>\n",
       "      <th>debt</th>\n",
       "    </tr>\n",
       "  </thead>\n",
       "  <tbody>\n",
       "    <tr>\n",
       "      <th>three</th>\n",
       "      <td>3.6</td>\n",
       "      <td>Ohio</td>\n",
       "      <td>2002</td>\n",
       "      <td>2</td>\n",
       "    </tr>\n",
       "    <tr>\n",
       "      <th>four</th>\n",
       "      <td>2.4</td>\n",
       "      <td>Nevada</td>\n",
       "      <td>2001</td>\n",
       "      <td>3</td>\n",
       "    </tr>\n",
       "    <tr>\n",
       "      <th>five</th>\n",
       "      <td>2.9</td>\n",
       "      <td>Nevada</td>\n",
       "      <td>2002</td>\n",
       "      <td>4</td>\n",
       "    </tr>\n",
       "  </tbody>\n",
       "</table>\n",
       "</div>"
      ],
      "text/plain": [
       "       pop   state  year  debt\n",
       "three  3.6    Ohio  2002     2\n",
       "four   2.4  Nevada  2001     3\n",
       "five   2.9  Nevada  2002     4"
      ]
     },
     "execution_count": 169,
     "metadata": {},
     "output_type": "execute_result"
    }
   ],
   "source": [
    "frame3[frame3['pop']>2]"
   ]
  },
  {
   "cell_type": "code",
   "execution_count": 170,
   "metadata": {},
   "outputs": [
    {
     "data": {
      "text/html": [
       "<div>\n",
       "<style>\n",
       "    .dataframe thead tr:only-child th {\n",
       "        text-align: right;\n",
       "    }\n",
       "\n",
       "    .dataframe thead th {\n",
       "        text-align: left;\n",
       "    }\n",
       "\n",
       "    .dataframe tbody tr th {\n",
       "        vertical-align: top;\n",
       "    }\n",
       "</style>\n",
       "<table border=\"1\" class=\"dataframe\">\n",
       "  <thead>\n",
       "    <tr style=\"text-align: right;\">\n",
       "      <th></th>\n",
       "      <th>pop</th>\n",
       "      <th>state</th>\n",
       "      <th>year</th>\n",
       "      <th>debt</th>\n",
       "    </tr>\n",
       "  </thead>\n",
       "  <tbody>\n",
       "    <tr>\n",
       "      <th>two</th>\n",
       "      <td>1.7</td>\n",
       "      <td>Ohio</td>\n",
       "      <td>2001</td>\n",
       "      <td>1</td>\n",
       "    </tr>\n",
       "    <tr>\n",
       "      <th>three</th>\n",
       "      <td>3.6</td>\n",
       "      <td>Ohio</td>\n",
       "      <td>2002</td>\n",
       "      <td>2</td>\n",
       "    </tr>\n",
       "    <tr>\n",
       "      <th>four</th>\n",
       "      <td>2.4</td>\n",
       "      <td>Nevada</td>\n",
       "      <td>2001</td>\n",
       "      <td>3</td>\n",
       "    </tr>\n",
       "  </tbody>\n",
       "</table>\n",
       "</div>"
      ],
      "text/plain": [
       "       pop   state  year  debt\n",
       "two    1.7    Ohio  2001     1\n",
       "three  3.6    Ohio  2002     2\n",
       "four   2.4  Nevada  2001     3"
      ]
     },
     "execution_count": 170,
     "metadata": {},
     "output_type": "execute_result"
    }
   ],
   "source": [
    "frame3[1:4]"
   ]
  },
  {
   "cell_type": "code",
   "execution_count": 171,
   "metadata": {},
   "outputs": [
    {
     "data": {
      "text/plain": [
       "one        Ohio\n",
       "two        Ohio\n",
       "three      Ohio\n",
       "four     Nevada\n",
       "five     Nevada\n",
       "Name: state, dtype: object"
      ]
     },
     "execution_count": 171,
     "metadata": {},
     "output_type": "execute_result"
    }
   ],
   "source": [
    "frame3['state']"
   ]
  },
  {
   "cell_type": "code",
   "execution_count": 172,
   "metadata": {},
   "outputs": [
    {
     "data": {
      "text/html": [
       "<div>\n",
       "<style>\n",
       "    .dataframe thead tr:only-child th {\n",
       "        text-align: right;\n",
       "    }\n",
       "\n",
       "    .dataframe thead th {\n",
       "        text-align: left;\n",
       "    }\n",
       "\n",
       "    .dataframe tbody tr th {\n",
       "        vertical-align: top;\n",
       "    }\n",
       "</style>\n",
       "<table border=\"1\" class=\"dataframe\">\n",
       "  <thead>\n",
       "    <tr style=\"text-align: right;\">\n",
       "      <th></th>\n",
       "      <th>pop</th>\n",
       "      <th>state</th>\n",
       "      <th>year</th>\n",
       "      <th>debt</th>\n",
       "    </tr>\n",
       "  </thead>\n",
       "  <tbody>\n",
       "    <tr>\n",
       "      <th>one</th>\n",
       "      <td>True</td>\n",
       "      <td>True</td>\n",
       "      <td>False</td>\n",
       "      <td>True</td>\n",
       "    </tr>\n",
       "    <tr>\n",
       "      <th>two</th>\n",
       "      <td>True</td>\n",
       "      <td>True</td>\n",
       "      <td>False</td>\n",
       "      <td>True</td>\n",
       "    </tr>\n",
       "    <tr>\n",
       "      <th>three</th>\n",
       "      <td>True</td>\n",
       "      <td>True</td>\n",
       "      <td>False</td>\n",
       "      <td>True</td>\n",
       "    </tr>\n",
       "    <tr>\n",
       "      <th>four</th>\n",
       "      <td>True</td>\n",
       "      <td>True</td>\n",
       "      <td>False</td>\n",
       "      <td>True</td>\n",
       "    </tr>\n",
       "    <tr>\n",
       "      <th>five</th>\n",
       "      <td>True</td>\n",
       "      <td>True</td>\n",
       "      <td>False</td>\n",
       "      <td>True</td>\n",
       "    </tr>\n",
       "  </tbody>\n",
       "</table>\n",
       "</div>"
      ],
      "text/plain": [
       "        pop  state   year  debt\n",
       "one    True   True  False  True\n",
       "two    True   True  False  True\n",
       "three  True   True  False  True\n",
       "four   True   True  False  True\n",
       "five   True   True  False  True"
      ]
     },
     "execution_count": 172,
     "metadata": {},
     "output_type": "execute_result"
    }
   ],
   "source": [
    "frame3<10"
   ]
  },
  {
   "cell_type": "code",
   "execution_count": null,
   "metadata": {
    "collapsed": true
   },
   "outputs": [],
   "source": []
  },
  {
   "cell_type": "code",
   "execution_count": 174,
   "metadata": {},
   "outputs": [
    {
     "data": {
      "text/html": [
       "<div>\n",
       "<style>\n",
       "    .dataframe thead tr:only-child th {\n",
       "        text-align: right;\n",
       "    }\n",
       "\n",
       "    .dataframe thead th {\n",
       "        text-align: left;\n",
       "    }\n",
       "\n",
       "    .dataframe tbody tr th {\n",
       "        vertical-align: top;\n",
       "    }\n",
       "</style>\n",
       "<table border=\"1\" class=\"dataframe\">\n",
       "  <thead>\n",
       "    <tr style=\"text-align: right;\">\n",
       "      <th></th>\n",
       "      <th>pop</th>\n",
       "      <th>state</th>\n",
       "      <th>year</th>\n",
       "      <th>debt</th>\n",
       "    </tr>\n",
       "  </thead>\n",
       "  <tbody>\n",
       "    <tr>\n",
       "      <th>one</th>\n",
       "      <td>1.5</td>\n",
       "      <td>Ohio</td>\n",
       "      <td>2000</td>\n",
       "      <td>0</td>\n",
       "    </tr>\n",
       "    <tr>\n",
       "      <th>two</th>\n",
       "      <td>1.7</td>\n",
       "      <td>Ohio</td>\n",
       "      <td>2001</td>\n",
       "      <td>1</td>\n",
       "    </tr>\n",
       "    <tr>\n",
       "      <th>three</th>\n",
       "      <td>3.6</td>\n",
       "      <td>Ohio</td>\n",
       "      <td>2002</td>\n",
       "      <td>2</td>\n",
       "    </tr>\n",
       "    <tr>\n",
       "      <th>four</th>\n",
       "      <td>2.4</td>\n",
       "      <td>Nevada</td>\n",
       "      <td>2001</td>\n",
       "      <td>3</td>\n",
       "    </tr>\n",
       "    <tr>\n",
       "      <th>five</th>\n",
       "      <td>2.9</td>\n",
       "      <td>Nevada</td>\n",
       "      <td>2002</td>\n",
       "      <td>4</td>\n",
       "    </tr>\n",
       "  </tbody>\n",
       "</table>\n",
       "</div>"
      ],
      "text/plain": [
       "       pop   state  year  debt\n",
       "one    1.5    Ohio  2000     0\n",
       "two    1.7    Ohio  2001     1\n",
       "three  3.6    Ohio  2002     2\n",
       "four   2.4  Nevada  2001     3\n",
       "five   2.9  Nevada  2002     4"
      ]
     },
     "execution_count": 174,
     "metadata": {},
     "output_type": "execute_result"
    }
   ],
   "source": [
    "frame3"
   ]
  },
  {
   "cell_type": "code",
   "execution_count": 177,
   "metadata": {},
   "outputs": [
    {
     "data": {
      "text/html": [
       "<div>\n",
       "<style>\n",
       "    .dataframe thead tr:only-child th {\n",
       "        text-align: right;\n",
       "    }\n",
       "\n",
       "    .dataframe thead th {\n",
       "        text-align: left;\n",
       "    }\n",
       "\n",
       "    .dataframe tbody tr th {\n",
       "        vertical-align: top;\n",
       "    }\n",
       "</style>\n",
       "<table border=\"1\" class=\"dataframe\">\n",
       "  <thead>\n",
       "    <tr style=\"text-align: right;\">\n",
       "      <th></th>\n",
       "      <th>state</th>\n",
       "      <th>year</th>\n",
       "      <th>debt</th>\n",
       "    </tr>\n",
       "  </thead>\n",
       "  <tbody>\n",
       "    <tr>\n",
       "      <th>Ohio</th>\n",
       "      <td>NaN</td>\n",
       "      <td>NaN</td>\n",
       "      <td>NaN</td>\n",
       "    </tr>\n",
       "  </tbody>\n",
       "</table>\n",
       "</div>"
      ],
      "text/plain": [
       "     state  year  debt\n",
       "Ohio   NaN   NaN   NaN"
      ]
     },
     "execution_count": 177,
     "metadata": {},
     "output_type": "execute_result"
    }
   ],
   "source": [
    "frame3.ix[['Ohio'],[1,2,3]]"
   ]
  },
  {
   "cell_type": "code",
   "execution_count": null,
   "metadata": {
    "collapsed": true
   },
   "outputs": [],
   "source": []
  }
 ],
 "metadata": {
  "kernelspec": {
   "display_name": "Python 3",
   "language": "python",
   "name": "python3"
  },
  "language_info": {
   "codemirror_mode": {
    "name": "ipython",
    "version": 3
   },
   "file_extension": ".py",
   "mimetype": "text/x-python",
   "name": "python",
   "nbconvert_exporter": "python",
   "pygments_lexer": "ipython3",
   "version": "3.5.2"
  }
 },
 "nbformat": 4,
 "nbformat_minor": 2
}
