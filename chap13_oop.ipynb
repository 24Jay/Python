{
 "cells": [
  {
   "cell_type": "markdown",
   "metadata": {},
   "source": [
    "## chap13  Object Oriented Programming"
   ]
  },
  {
   "cell_type": "markdown",
   "metadata": {},
   "source": [
    "### *与通常python变量一样，任何对实例属性的赋值都会创建一个新的实例属性，并且对其赋值，然后就无法使用实例去访问类变量了*"
   ]
  },
  {
   "cell_type": "code",
   "execution_count": 11,
   "metadata": {},
   "outputs": [
    {
     "name": "stdout",
     "output_type": "stream",
     "text": [
      "Ob.version=1\n",
      "c.version=1\n",
      "\n",
      ">>>>>after version changed by instance, instance cannot have access to static version\n",
      "Ob.version=1\n",
      "c.version=100\n",
      "\n",
      ">>>>>delete version by instance:\n",
      "Ob.version=1\n",
      "c.version=1\n"
     ]
    }
   ],
   "source": [
    "class Ob(object):\n",
    "    version = \"1\"\n",
    "c = Ob()\n",
    "print(\"Ob.version=\"+Ob.version)\n",
    "print(\"c.version=\"+c.version)\n",
    "print(\"\\n>>>>>after version changed by instance, instance cannot have access to static version\")\n",
    "c.version = \"100\"\n",
    "print(\"Ob.version=\"+Ob.version)\n",
    "print(\"c.version=\"+c.version)\n",
    "\n",
    "print(\"\\n>>>>>delete version by instance:\")\n",
    "del c.version\n",
    "print(\"Ob.version=\"+Ob.version)\n",
    "print(\"c.version=\"+c.version)"
   ]
  },
  {
   "cell_type": "code",
   "execution_count": 21,
   "metadata": {},
   "outputs": [
    {
     "name": "stdout",
     "output_type": "stream",
     "text": [
      "N.version=1\n",
      "n.version=1\n",
      "\n",
      "dir(N)>>>['__class__', '__delattr__', '__dict__', '__dir__', '__doc__', '__eq__', '__format__', '__ge__', '__getattribute__', '__gt__', '__hash__', '__init__', '__le__', '__lt__', '__module__', '__ne__', '__new__', '__reduce__', '__reduce_ex__', '__repr__', '__setattr__', '__sizeof__', '__str__', '__subclasshook__', '__weakref__', 'version']\n",
      "\n",
      "dir(n)>>>['__class__', '__delattr__', '__dict__', '__dir__', '__doc__', '__eq__', '__format__', '__ge__', '__getattribute__', '__gt__', '__hash__', '__init__', '__le__', '__lt__', '__module__', '__ne__', '__new__', '__reduce__', '__reduce_ex__', '__repr__', '__setattr__', '__sizeof__', '__str__', '__subclasshook__', '__weakref__', 'version']\n",
      "\n",
      "n.__dict__>>>{}\n",
      "\n",
      "N.__dict__>>>{'__dict__': <attribute '__dict__' of 'N' objects>, '__module__': '__main__', 'version': 1, '__doc__': None, '__weakref__': <attribute '__weakref__' of 'N' objects>}\n",
      "\n",
      "\n",
      "\n",
      "N.version=1\n",
      "n.version=2\n",
      "\n",
      "n.__dict__>>>{'version': 2}\n"
     ]
    }
   ],
   "source": [
    "class N(object):\n",
    "    version=1\n",
    "\n",
    "n = N()\n",
    "print(\"N.version=\"+str(N.version))\n",
    "print(\"n.version=\"+str(n.version))\n",
    "print(\"\\ndir(N)>>>\"+str(dir(N)))\n",
    "print(\"\\ndir(n)>>>\"+str(dir(n)))\n",
    "print(\"\\nn.__dict__>>>\"+str(n.__dict__))\n",
    "print(\"\\nN.__dict__>>>\"+str(N.__dict__))\n",
    "n.version = N.version+1\n",
    "\n",
    "print(\"\\n\\n\")\n",
    "print(\"N.version=\"+str(N.version))\n",
    "print(\"n.version=\"+str(n.version))\n",
    "print(\"\\nn.__dict__>>>\"+str(n.__dict__))\n"
   ]
  },
  {
   "cell_type": "markdown",
   "metadata": {},
   "source": [
    "### *在类属性可变的情况下，一切都不同了*"
   ]
  },
  {
   "cell_type": "code",
   "execution_count": 27,
   "metadata": {},
   "outputs": [
    {
     "name": "stdout",
     "output_type": "stream",
     "text": [
      "F.x = {'2008': 'China'}\n",
      "f.x = {'2008': 'China'}\n",
      "F.x = {'2016': 'Rio', '2008': 'China', '2012': 'London'}\n",
      "f.x = {'2016': 'Rio', '2008': 'China', '2012': 'London'}\n"
     ]
    }
   ],
   "source": [
    "class F(object):\n",
    "    x = {\"2008\":\"China\"}\n",
    "\n",
    "f = F()\n",
    "print(\"F.x = \"+ str(F.x))\n",
    "print(\"f.x = \"+ str(f.x))\n",
    "\n",
    "F.x[\"2012\"]=\"London\"\n",
    "f.x[\"2016\"]=\"Rio\"\n",
    "print(\"F.x = \"+ str(F.x))\n",
    "print(\"f.x = \"+ str(f.x))"
   ]
  },
  {
   "cell_type": "markdown",
   "metadata": {},
   "source": [
    "## 使用类来修改类变量，而不要使用实例去修改"
   ]
  },
  {
   "cell_type": "markdown",
   "metadata": {},
   "source": [
    "## ２．绑定和方法调用"
   ]
  },
  {
   "cell_type": "markdown",
   "metadata": {},
   "source": [
    "### 2.1 staticmethod()和classmethod()内建函数"
   ]
  },
  {
   "cell_type": "code",
   "execution_count": 42,
   "metadata": {},
   "outputs": [
    {
     "name": "stdout",
     "output_type": "stream",
     "text": [
      "This is static method\n",
      "This is static method\n",
      "This is a class method\n"
     ]
    }
   ],
   "source": [
    "class TestM:\n",
    "    def foo():\n",
    "        print(\"This is static method\")\n",
    "    foo=staticmethod(foo)\n",
    "        \n",
    "    def foo2(cls):\n",
    "        print(\"This is a class method\")\n",
    "    foo2=classmethod(foo2)\n",
    "\n",
    "o = TestM()\n",
    "o.foo()\n",
    "TestM.foo()\n",
    "TestM.foo2()"
   ]
  },
  {
   "cell_type": "markdown",
   "metadata": {},
   "source": [
    "### 2.2 使用函数修饰符"
   ]
  },
  {
   "cell_type": "code",
   "execution_count": 45,
   "metadata": {},
   "outputs": [
    {
     "name": "stdout",
     "output_type": "stream",
     "text": [
      "This is a static method described by @staticmethod\n",
      "This is a class method described by @classmethod\n"
     ]
    }
   ],
   "source": [
    "class TestAnno:\n",
    "    @staticmethod\n",
    "    def foo():\n",
    "        print(\"This is a static method described by @staticmethod\")\n",
    "    \n",
    "    @classmethod\n",
    "    def foo2(cls):\n",
    "        print(\"This is a class method described by @classmethod\")\n",
    "        \n",
    "TestAnno.foo()\n",
    "TestAnno.foo2()"
   ]
  },
  {
   "cell_type": "code",
   "execution_count": null,
   "metadata": {
    "collapsed": true
   },
   "outputs": [],
   "source": []
  }
 ],
 "metadata": {
  "kernelspec": {
   "display_name": "Python 3",
   "language": "python",
   "name": "python3"
  },
  "language_info": {
   "codemirror_mode": {
    "name": "ipython",
    "version": 3
   },
   "file_extension": ".py",
   "mimetype": "text/x-python",
   "name": "python",
   "nbconvert_exporter": "python",
   "pygments_lexer": "ipython3",
   "version": "3.5.2"
  }
 },
 "nbformat": 4,
 "nbformat_minor": 2
}
