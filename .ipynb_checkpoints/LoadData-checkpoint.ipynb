{
 "cells": [
  {
   "cell_type": "code",
   "execution_count": 47,
   "metadata": {
    "collapsed": true
   },
   "outputs": [],
   "source": [
    "import pandas as pd\n",
    "import numpy as np\n",
    "import json"
   ]
  },
  {
   "cell_type": "code",
   "execution_count": 48,
   "metadata": {},
   "outputs": [
    {
     "name": "stdout",
     "output_type": "stream",
     "text": [
      "[['奴隶社会', '非洲', '古埃及文明', '金字塔'], ['', '亚洲', '两河流域文明', '汉谟拉比法典'], ['', '', '古印度', '种姓制度'], ['', '', '', '佛教的创立'], ['', '', '中国', '华夏文明', '甲骨文'], ['', '', '', '', '金文'], ['', '欧洲', '希腊', '希腊城邦'], ['', '', '', '雅典民主'], ['', '', '罗马', '城邦'], ['', '', '', '帝国的征服与扩展'], ['', '', '希腊罗马古典文化', '建筑艺术'], ['', '', '', '公历']]\n"
     ]
    },
    {
     "data": {
      "text/html": [
       "<div>\n",
       "<style>\n",
       "    .dataframe thead tr:only-child th {\n",
       "        text-align: right;\n",
       "    }\n",
       "\n",
       "    .dataframe thead th {\n",
       "        text-align: left;\n",
       "    }\n",
       "\n",
       "    .dataframe tbody tr th {\n",
       "        vertical-align: top;\n",
       "    }\n",
       "</style>\n",
       "<table border=\"1\" class=\"dataframe\">\n",
       "  <thead>\n",
       "    <tr style=\"text-align: right;\">\n",
       "      <th></th>\n",
       "      <th>0</th>\n",
       "      <th>1</th>\n",
       "      <th>2</th>\n",
       "      <th>3</th>\n",
       "      <th>4</th>\n",
       "    </tr>\n",
       "  </thead>\n",
       "  <tbody>\n",
       "    <tr>\n",
       "      <th>0</th>\n",
       "      <td>奴隶社会</td>\n",
       "      <td>非洲</td>\n",
       "      <td>古埃及文明</td>\n",
       "      <td>金字塔</td>\n",
       "      <td>None</td>\n",
       "    </tr>\n",
       "    <tr>\n",
       "      <th>1</th>\n",
       "      <td></td>\n",
       "      <td>亚洲</td>\n",
       "      <td>两河流域文明</td>\n",
       "      <td>汉谟拉比法典</td>\n",
       "      <td>None</td>\n",
       "    </tr>\n",
       "    <tr>\n",
       "      <th>2</th>\n",
       "      <td></td>\n",
       "      <td></td>\n",
       "      <td>古印度</td>\n",
       "      <td>种姓制度</td>\n",
       "      <td>None</td>\n",
       "    </tr>\n",
       "    <tr>\n",
       "      <th>3</th>\n",
       "      <td></td>\n",
       "      <td></td>\n",
       "      <td></td>\n",
       "      <td>佛教的创立</td>\n",
       "      <td>None</td>\n",
       "    </tr>\n",
       "    <tr>\n",
       "      <th>4</th>\n",
       "      <td></td>\n",
       "      <td></td>\n",
       "      <td>中国</td>\n",
       "      <td>华夏文明</td>\n",
       "      <td>甲骨文</td>\n",
       "    </tr>\n",
       "    <tr>\n",
       "      <th>5</th>\n",
       "      <td></td>\n",
       "      <td></td>\n",
       "      <td></td>\n",
       "      <td></td>\n",
       "      <td>金文</td>\n",
       "    </tr>\n",
       "    <tr>\n",
       "      <th>6</th>\n",
       "      <td></td>\n",
       "      <td>欧洲</td>\n",
       "      <td>希腊</td>\n",
       "      <td>希腊城邦</td>\n",
       "      <td>None</td>\n",
       "    </tr>\n",
       "    <tr>\n",
       "      <th>7</th>\n",
       "      <td></td>\n",
       "      <td></td>\n",
       "      <td></td>\n",
       "      <td>雅典民主</td>\n",
       "      <td>None</td>\n",
       "    </tr>\n",
       "    <tr>\n",
       "      <th>8</th>\n",
       "      <td></td>\n",
       "      <td></td>\n",
       "      <td>罗马</td>\n",
       "      <td>城邦</td>\n",
       "      <td>None</td>\n",
       "    </tr>\n",
       "    <tr>\n",
       "      <th>9</th>\n",
       "      <td></td>\n",
       "      <td></td>\n",
       "      <td></td>\n",
       "      <td>帝国的征服与扩展</td>\n",
       "      <td>None</td>\n",
       "    </tr>\n",
       "    <tr>\n",
       "      <th>10</th>\n",
       "      <td></td>\n",
       "      <td></td>\n",
       "      <td>希腊罗马古典文化</td>\n",
       "      <td>建筑艺术</td>\n",
       "      <td>None</td>\n",
       "    </tr>\n",
       "    <tr>\n",
       "      <th>11</th>\n",
       "      <td></td>\n",
       "      <td></td>\n",
       "      <td></td>\n",
       "      <td>公历</td>\n",
       "      <td>None</td>\n",
       "    </tr>\n",
       "  </tbody>\n",
       "</table>\n",
       "</div>"
      ],
      "text/plain": [
       "       0   1         2         3     4\n",
       "0   奴隶社会  非洲     古埃及文明       金字塔  None\n",
       "1         亚洲    两河流域文明    汉谟拉比法典  None\n",
       "2                  古印度      种姓制度  None\n",
       "3                          佛教的创立  None\n",
       "4                   中国      华夏文明   甲骨文\n",
       "5                                   金文\n",
       "6         欧洲        希腊      希腊城邦  None\n",
       "7                           雅典民主  None\n",
       "8                   罗马        城邦  None\n",
       "9                       帝国的征服与扩展  None\n",
       "10            希腊罗马古典文化      建筑艺术  None\n",
       "11                            公历  None"
      ]
     },
     "execution_count": 48,
     "metadata": {},
     "output_type": "execute_result"
    }
   ],
   "source": [
    "lis = []\n",
    "for line in open(\"his.csv\"):\n",
    "    line = line.replace(\"\\n\",\"\")\n",
    "    words=line.split(',')\n",
    "#     print((words))\n",
    "    lis.append(words)\n",
    "print(lis)\n",
    "\n",
    "\n",
    "df = pd.DataFrame(lis)\n",
    "df"
   ]
  },
  {
   "cell_type": "code",
   "execution_count": 50,
   "metadata": {},
   "outputs": [],
   "source": [
    "ss = json.dumps(lis)"
   ]
  },
  {
   "cell_type": "code",
   "execution_count": 51,
   "metadata": {},
   "outputs": [
    {
     "data": {
      "text/plain": [
       "[['奴隶社会', '非洲', '古埃及文明', '金字塔'],\n",
       " ['', '亚洲', '两河流域文明', '汉谟拉比法典'],\n",
       " ['', '', '古印度', '种姓制度'],\n",
       " ['', '', '', '佛教的创立'],\n",
       " ['', '', '中国', '华夏文明', '甲骨文'],\n",
       " ['', '', '', '', '金文'],\n",
       " ['', '欧洲', '希腊', '希腊城邦'],\n",
       " ['', '', '', '雅典民主'],\n",
       " ['', '', '罗马', '城邦'],\n",
       " ['', '', '', '帝国的征服与扩展'],\n",
       " ['', '', '希腊罗马古典文化', '建筑艺术'],\n",
       " ['', '', '', '公历']]"
      ]
     },
     "execution_count": 51,
     "metadata": {},
     "output_type": "execute_result"
    }
   ],
   "source": [
    "json.loads(ss)"
   ]
  },
  {
   "cell_type": "code",
   "execution_count": 46,
   "metadata": {},
   "outputs": [],
   "source": [
    "# pd.read_table(\"his.csv\",sep=\",\")"
   ]
  },
  {
   "cell_type": "code",
   "execution_count": null,
   "metadata": {
    "collapsed": true
   },
   "outputs": [],
   "source": []
  }
 ],
 "metadata": {
  "kernelspec": {
   "display_name": "Python 3",
   "language": "python",
   "name": "python3"
  },
  "language_info": {
   "codemirror_mode": {
    "name": "ipython",
    "version": 3
   },
   "file_extension": ".py",
   "mimetype": "text/x-python",
   "name": "python",
   "nbconvert_exporter": "python",
   "pygments_lexer": "ipython3",
   "version": "3.5.2"
  }
 },
 "nbformat": 4,
 "nbformat_minor": 2
}
