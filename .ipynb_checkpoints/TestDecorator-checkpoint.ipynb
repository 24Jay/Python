{
 "cells": [
  {
   "cell_type": "markdown",
   "metadata": {},
   "source": [
    "### 函数的装饰器"
   ]
  },
  {
   "cell_type": "code",
   "execution_count": 25,
   "metadata": {},
   "outputs": [
    {
     "name": "stdout",
     "output_type": "stream",
     "text": [
      "in function tsfunc : func=foo\n",
      "[Wed Sep 20 14:58:18 2017] :---> foo()\n",
      "in function tsfunc : func=goo\n",
      "[Wed Sep 20 14:58:20 2017] :---> goo()\n"
     ]
    }
   ],
   "source": [
    "from time import ctime,sleep\n",
    "def tsfunc(func):\n",
    "    def wrapperFunc():\n",
    "        print(\"[%s] :---> %s()\"%(ctime(),func.__name__))\n",
    "        return func()\n",
    "    print(\"in function tsfunc : func=\"+func.__name__)\n",
    "    return wrapperFunc\n",
    "\n",
    "@tsfunc\n",
    "def foo():\n",
    "    pass\n",
    "\n",
    "def goo():\n",
    "    pass\n",
    "\n",
    "foo()\n",
    "sleep(2)\n",
    "#装饰器的效果其实就如同下面的函数\n",
    "tsfunc(goo)()"
   ]
  },
  {
   "cell_type": "markdown",
   "metadata": {},
   "source": [
    "### 默认参数和可变长参数"
   ]
  },
  {
   "cell_type": "code",
   "execution_count": 26,
   "metadata": {
    "collapsed": true
   },
   "outputs": [],
   "source": [
    "def foo(a,arg=\"Wordl\",*rest):\n",
    "    print(\"arg1 = \"+a)\n",
    "    print(\"arg2 = \"+arg)\n",
    "    for ag in rest:\n",
    "        print(\"another arg = \"+ag)"
   ]
  },
  {
   "cell_type": "code",
   "execution_count": 44,
   "metadata": {},
   "outputs": [
    {
     "name": "stdout",
     "output_type": "stream",
     "text": [
      "arg1 = Hello\n",
      "arg2 = Wordl\n",
      "arg1 = Hello\n",
      "arg2 = CHina\n",
      "arg1 = cool\n",
      "arg2 = down\n",
      "arg1 = Hello\n",
      "arg2 = CC\n",
      "another arg = 1\n",
      "another arg = 2\n",
      "another arg = 3\n",
      "arg1 = hi\n",
      "arg2 = go\n"
     ]
    }
   ],
   "source": [
    "foo(\"Hello\")\n",
    "foo(\"Hello\",\"CHina\")\n",
    "foo(\"cool\",arg=\"down\")\n",
    "foo(\"Hello\",\"CC\",\"1\",\"2\",\"3\")\n",
    "foo(\"hi\",arg=\"go\")"
   ]
  },
  {
   "cell_type": "markdown",
   "metadata": {},
   "source": [
    "### 关键字变量参数: dict"
   ]
  },
  {
   "cell_type": "code",
   "execution_count": 56,
   "metadata": {},
   "outputs": [],
   "source": [
    "def goo(arg1,arg2=\"default_2\",*tups,**dicts):\n",
    "    print(\"formal arg = \"+arg1)\n",
    "    print(\"formal arg = \"+arg2)\n",
    "    for var in tups:\n",
    "        print(\"a tuple arg = \"+str(var))\n",
    "    for ar in dicts.keys():\n",
    "        print(\"a dict arg: %s = %s\"%(str(ar),str(dicts[ar])))"
   ]
  },
  {
   "cell_type": "code",
   "execution_count": 57,
   "metadata": {},
   "outputs": [
    {
     "name": "stdout",
     "output_type": "stream",
     "text": [
      "formal arg = 1\n",
      "formal arg = default_2\n"
     ]
    }
   ],
   "source": [
    "goo(\"1\")"
   ]
  },
  {
   "cell_type": "code",
   "execution_count": 58,
   "metadata": {},
   "outputs": [
    {
     "name": "stdout",
     "output_type": "stream",
     "text": [
      "formal arg = 1\n",
      "formal arg = 2\n"
     ]
    }
   ],
   "source": [
    "goo(\"1\",\"2\")"
   ]
  },
  {
   "cell_type": "code",
   "execution_count": 60,
   "metadata": {},
   "outputs": [
    {
     "name": "stdout",
     "output_type": "stream",
     "text": [
      "formal arg = 22\n",
      "formal arg = 1\n",
      "a dict arg: e = 34\n",
      "a dict arg: d = 123\n",
      "a dict arg: c = 12\n"
     ]
    }
   ],
   "source": [
    "goo(\"22\",arg2=\"1\",c=12,d=123,e=34)"
   ]
  },
  {
   "cell_type": "code",
   "execution_count": 63,
   "metadata": {},
   "outputs": [
    {
     "name": "stdout",
     "output_type": "stream",
     "text": [
      "formal arg = 22\n",
      "formal arg = 1\n",
      "a tuple arg = tup1\n",
      "a dict arg: e = 34\n",
      "a dict arg: d = 123\n",
      "a dict arg: c = 12\n"
     ]
    }
   ],
   "source": [
    "goo(\"22\",\"1\",\"tup1\",c=12,d=123,e=34)"
   ]
  },
  {
   "cell_type": "code",
   "execution_count": 64,
   "metadata": {},
   "outputs": [
    {
     "name": "stdout",
     "output_type": "stream",
     "text": [
      "formal arg = 22\n",
      "formal arg = 1\n",
      "a tuple arg = tup1\n",
      "a tuple arg = tup2\n",
      "a dict arg: e = 34\n",
      "a dict arg: d = 123\n",
      "a dict arg: c = 12\n"
     ]
    }
   ],
   "source": [
    "goo(\"22\",\"1\",\"tup1\",\"tup2\",c=12,d=123,e=34)"
   ]
  },
  {
   "cell_type": "code",
   "execution_count": 65,
   "metadata": {},
   "outputs": [
    {
     "name": "stdout",
     "output_type": "stream",
     "text": [
      "formal arg = 22\n",
      "formal arg = 1\n",
      "a tuple arg = tup1\n",
      "a tuple arg = tp2\n",
      "a dict arg: c = 12\n",
      "a dict arg: d = 123\n",
      "a dict arg: e = 34\n"
     ]
    }
   ],
   "source": [
    "goo(\"22\",\"1\",*(\"tup1\",\"tp2\"),**{\"c\":12,\"d\":123,\"e\":34})"
   ]
  },
  {
   "cell_type": "code",
   "execution_count": 66,
   "metadata": {},
   "outputs": [
    {
     "name": "stdout",
     "output_type": "stream",
     "text": [
      "formal arg = 22\n",
      "formal arg = 1\n",
      "a tuple arg = 4\n",
      "a tuple arg = 5\n",
      "a tuple arg = tup1\n",
      "a tuple arg = tp2\n",
      "a dict arg: c = 12\n",
      "a dict arg: d = 123\n",
      "a dict arg: e = 34\n"
     ]
    }
   ],
   "source": [
    "goo(\"22\",\"1\",4,5,*(\"tup1\",\"tp2\"),**{\"c\":12,\"d\":123,\"e\":34})"
   ]
  },
  {
   "cell_type": "code",
   "execution_count": 72,
   "metadata": {},
   "outputs": [
    {
     "name": "stdout",
     "output_type": "stream",
     "text": [
      "formal arg = 22\n",
      "formal arg = 1\n",
      "a tuple arg = 4\n",
      "a tuple arg = 5\n",
      "a tuple arg = tup1\n",
      "a tuple arg = tp2\n",
      "a dict arg: b = 2\n",
      "a dict arg: a = 1\n",
      "a dict arg: d = 123\n",
      "a dict arg: c = 12\n",
      "a dict arg: e = 34\n"
     ]
    }
   ],
   "source": [
    "goo(\"22\",\"1\",4,5,*(\"tup1\",\"tp2\"),a=1,b=2,**{\"c\":12,\"d\":123,\"e\":34})"
   ]
  },
  {
   "cell_type": "code",
   "execution_count": null,
   "metadata": {},
   "outputs": [],
   "source": []
  },
  {
   "cell_type": "markdown",
   "metadata": {},
   "source": [
    "## 函数式编程"
   ]
  },
  {
   "cell_type": "markdown",
   "metadata": {},
   "source": [
    "### 匿名函数和lambda: python允许使用lambda关键字创造匿名函数"
   ]
  },
  {
   "cell_type": "markdown",
   "metadata": {},
   "source": [
    "```lambda [arg1,arg2...]: expression```"
   ]
  },
  {
   "cell_type": "code",
   "execution_count": 74,
   "metadata": {},
   "outputs": [
    {
     "data": {
      "text/plain": [
       "<function __main__.<lambda>>"
      ]
     },
     "execution_count": 74,
     "metadata": {},
     "output_type": "execute_result"
    }
   ],
   "source": [
    "lambda : True"
   ]
  },
  {
   "cell_type": "code",
   "execution_count": 75,
   "metadata": {
    "collapsed": true
   },
   "outputs": [],
   "source": [
    "tr = lambda : True"
   ]
  },
  {
   "cell_type": "code",
   "execution_count": 76,
   "metadata": {},
   "outputs": [
    {
     "data": {
      "text/plain": [
       "True"
      ]
     },
     "execution_count": 76,
     "metadata": {},
     "output_type": "execute_result"
    }
   ],
   "source": [
    "tr()"
   ]
  },
  {
   "cell_type": "code",
   "execution_count": 80,
   "metadata": {
    "collapsed": true
   },
   "outputs": [],
   "source": [
    "add = lambda x,y=1: x+y"
   ]
  },
  {
   "cell_type": "code",
   "execution_count": 82,
   "metadata": {},
   "outputs": [
    {
     "data": {
      "text/plain": [
       "2"
      ]
     },
     "execution_count": 82,
     "metadata": {},
     "output_type": "execute_result"
    }
   ],
   "source": [
    "add(1)"
   ]
  },
  {
   "cell_type": "code",
   "execution_count": 84,
   "metadata": {},
   "outputs": [
    {
     "data": {
      "text/plain": [
       "5"
      ]
     },
     "execution_count": 84,
     "metadata": {},
     "output_type": "execute_result"
    }
   ],
   "source": [
    "add(1,4)"
   ]
  },
  {
   "cell_type": "code",
   "execution_count": 85,
   "metadata": {
    "collapsed": true
   },
   "outputs": [],
   "source": [
    "ret = lambda *x : x"
   ]
  },
  {
   "cell_type": "code",
   "execution_count": 86,
   "metadata": {},
   "outputs": [
    {
     "data": {
      "text/plain": [
       "(1, 2, 3, 4)"
      ]
     },
     "execution_count": 86,
     "metadata": {},
     "output_type": "execute_result"
    }
   ],
   "source": [
    "ret(1,2,3,4)"
   ]
  },
  {
   "cell_type": "code",
   "execution_count": 87,
   "metadata": {},
   "outputs": [
    {
     "data": {
      "text/plain": [
       "(3,)"
      ]
     },
     "execution_count": 87,
     "metadata": {},
     "output_type": "execute_result"
    }
   ],
   "source": [
    "ret(3)"
   ]
  },
  {
   "cell_type": "code",
   "execution_count": 88,
   "metadata": {},
   "outputs": [
    {
     "data": {
      "text/plain": [
       "()"
      ]
     },
     "execution_count": 88,
     "metadata": {},
     "output_type": "execute_result"
    }
   ],
   "source": [
    "ret()"
   ]
  },
  {
   "cell_type": "markdown",
   "metadata": {},
   "source": [
    "### 内建函数: filter(), map(), reduce()"
   ]
  },
  {
   "cell_type": "code",
   "execution_count": 120,
   "metadata": {},
   "outputs": [],
   "source": [
    "# odd = lambda n: n%2"
   ]
  },
  {
   "cell_type": "code",
   "execution_count": 121,
   "metadata": {},
   "outputs": [],
   "source": [
    "def odd(n):\n",
    "    return n%2"
   ]
  },
  {
   "cell_type": "code",
   "execution_count": 131,
   "metadata": {},
   "outputs": [
    {
     "data": {
      "text/plain": [
       "[3, 5, 6, 8, 89]"
      ]
     },
     "execution_count": 131,
     "metadata": {},
     "output_type": "execute_result"
    }
   ],
   "source": [
    "nums = [3,5,6,8,89]\n",
    "nums"
   ]
  },
  {
   "cell_type": "code",
   "execution_count": 147,
   "metadata": {},
   "outputs": [
    {
     "name": "stdout",
     "output_type": "stream",
     "text": [
      "3\n",
      "5\n",
      "7\n",
      "9\n"
     ]
    }
   ],
   "source": [
    "# filter返回为True的\n",
    "for i in filter (odd, [2,3,5,6,7,9,10]):\n",
    "    print(i)"
   ]
  },
  {
   "cell_type": "code",
   "execution_count": null,
   "metadata": {},
   "outputs": [],
   "source": []
  },
  {
   "cell_type": "markdown",
   "metadata": {},
   "source": [
    "### map()"
   ]
  },
  {
   "cell_type": "code",
   "execution_count": 153,
   "metadata": {},
   "outputs": [
    {
     "name": "stdout",
     "output_type": "stream",
     "text": [
      "1\n",
      "4\n",
      "9\n",
      "16\n",
      "25\n",
      "36\n",
      "49\n"
     ]
    }
   ],
   "source": [
    "a = map(lambda x:x**2, [1,2,3,4,5,6,7])\n",
    "for i in a:\n",
    "    print(i)"
   ]
  },
  {
   "cell_type": "code",
   "execution_count": null,
   "metadata": {
    "collapsed": true
   },
   "outputs": [],
   "source": []
  }
 ],
 "metadata": {
  "kernelspec": {
   "display_name": "Python 3",
   "language": "python",
   "name": "python3"
  },
  "language_info": {
   "codemirror_mode": {
    "name": "ipython",
    "version": 3
   },
   "file_extension": ".py",
   "mimetype": "text/x-python",
   "name": "python",
   "nbconvert_exporter": "python",
   "pygments_lexer": "ipython3",
   "version": "3.5.2"
  }
 },
 "nbformat": 4,
 "nbformat_minor": 2
}
